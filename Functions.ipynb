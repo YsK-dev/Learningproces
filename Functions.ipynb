{
 "cells": [
  {
   "metadata": {},
   "cell_type": "markdown",
   "source": [
    "FUNCTIONS \n",
    "#Map funtion and all other embeded python functıons"
   ],
   "id": "58844382a365357b"
  },
  {
   "metadata": {
    "ExecuteTime": {
     "end_time": "2024-08-28T02:21:32.912700Z",
     "start_time": "2024-08-28T02:21:32.908011Z"
    }
   },
   "cell_type": "code",
   "source": [
    "def double(a):\n",
    "    return a*2\n",
    "double(5)"
   ],
   "id": "8a7434357d135594",
   "outputs": [
    {
     "data": {
      "text/plain": [
       "10"
      ]
     },
     "execution_count": 5,
     "metadata": {},
     "output_type": "execute_result"
    }
   ],
   "execution_count": 5
  },
  {
   "metadata": {
    "ExecuteTime": {
     "end_time": "2024-08-28T02:21:52.359541Z",
     "start_time": "2024-08-28T02:21:52.356129Z"
    }
   },
   "cell_type": "code",
   "source": "map(double, [1,2,3,4])#usually double function takes one argument but here it takes one argument from list and its execute",
   "id": "63fee8f6d3580008",
   "outputs": [
    {
     "data": {
      "text/plain": [
       "<map at 0x1066b06d0>"
      ]
     },
     "execution_count": 9,
     "metadata": {},
     "output_type": "execute_result"
    }
   ],
   "execution_count": 9
  },
  {
   "metadata": {
    "ExecuteTime": {
     "end_time": "2024-08-28T02:21:39.849632Z",
     "start_time": "2024-08-28T02:21:39.845337Z"
    }
   },
   "cell_type": "code",
   "source": "list(map(double, [1,2,3,4]))",
   "id": "773b1bb6476b24fd",
   "outputs": [
    {
     "data": {
      "text/plain": [
       "[2, 4, 6, 8]"
      ]
     },
     "execution_count": 7,
     "metadata": {},
     "output_type": "execute_result"
    }
   ],
   "execution_count": 7
  },
  {
   "metadata": {
    "ExecuteTime": {
     "end_time": "2024-08-28T02:21:41.382153Z",
     "start_time": "2024-08-28T02:21:41.379559Z"
    }
   },
   "cell_type": "code",
   "source": "print(list)",
   "id": "5ac18b1e6aac379c",
   "outputs": [
    {
     "name": "stdout",
     "output_type": "stream",
     "text": [
      "<class 'list'>\n"
     ]
    }
   ],
   "execution_count": 8
  },
  {
   "metadata": {
    "ExecuteTime": {
     "end_time": "2024-08-22T13:10:08.871599Z",
     "start_time": "2024-08-22T13:10:08.869020Z"
    }
   },
   "cell_type": "code",
   "source": "del list#ı change the built in list function for delete what ı do ı used del ",
   "id": "44c48894694aa944",
   "outputs": [],
   "execution_count": 37
  },
  {
   "metadata": {
    "ExecuteTime": {
     "end_time": "2024-08-22T13:10:22.529667Z",
     "start_time": "2024-08-22T13:10:22.525196Z"
    }
   },
   "cell_type": "code",
   "source": "list(map(double, [1,2,3,4]))# now list funtion works like in hw would look in first place",
   "id": "54a8855029621643",
   "outputs": [
    {
     "data": {
      "text/plain": [
       "[2, 4, 6, 8]"
      ]
     },
     "execution_count": 38,
     "metadata": {},
     "output_type": "execute_result"
    }
   ],
   "execution_count": 38
  },
  {
   "metadata": {
    "ExecuteTime": {
     "end_time": "2024-08-22T13:17:23.974995Z",
     "start_time": "2024-08-22T13:17:23.970641Z"
    }
   },
   "cell_type": "code",
   "source": [
    "#instead of creating with funtion this time I will do it in lambda\n",
    "map(lambda x: x*2, (12,13,14))"
   ],
   "id": "838b1255c112ece8",
   "outputs": [
    {
     "data": {
      "text/plain": [
       "<map at 0x1052b46a0>"
      ]
     },
     "execution_count": 52,
     "metadata": {},
     "output_type": "execute_result"
    }
   ],
   "execution_count": 52
  },
  {
   "metadata": {
    "ExecuteTime": {
     "end_time": "2024-08-22T13:17:24.316992Z",
     "start_time": "2024-08-22T13:17:24.313756Z"
    }
   },
   "cell_type": "code",
   "source": "list1=list(map(double, (12,13,14)))",
   "id": "98309e7093e61e77",
   "outputs": [],
   "execution_count": 53
  },
  {
   "metadata": {
    "ExecuteTime": {
     "end_time": "2024-08-22T13:17:24.478509Z",
     "start_time": "2024-08-22T13:17:24.476377Z"
    }
   },
   "cell_type": "code",
   "source": "print(list1)",
   "id": "8e3aca85d1716118",
   "outputs": [
    {
     "name": "stdout",
     "output_type": "stream",
     "text": [
      "[24, 26, 28]\n"
     ]
    }
   ],
   "execution_count": 54
  },
  {
   "metadata": {
    "ExecuteTime": {
     "end_time": "2024-08-22T13:19:27.645586Z",
     "start_time": "2024-08-22T13:19:27.642310Z"
    }
   },
   "cell_type": "code",
   "source": [
    "map(lambda a:a**2,(1,2,3,4,5,6,7,8,9))#this time square of the each number in tupple\n",
    "list2=list(map(double, (1,2,3,4,5,6,7,8,9)))\n",
    "print(list2)"
   ],
   "id": "77c062793d1bd3ed",
   "outputs": [
    {
     "name": "stdout",
     "output_type": "stream",
     "text": [
      "[2, 4, 6, 8, 10, 12, 14, 16, 18]\n"
     ]
    }
   ],
   "execution_count": 55
  },
  {
   "metadata": {
    "ExecuteTime": {
     "end_time": "2024-08-22T13:24:49.531601Z",
     "start_time": "2024-08-22T13:24:49.528093Z"
    }
   },
   "cell_type": "code",
   "source": [
    "#creating lists to play with\n",
    "newlist0=[7,8,4,5]\n",
    "newlist1=[1,3,4,9]\n",
    "newlist2=[2,6,7,8]"
   ],
   "id": "16a323614e5bb4ec",
   "outputs": [],
   "execution_count": 58
  },
  {
   "metadata": {
    "ExecuteTime": {
     "end_time": "2024-08-22T13:28:20.942225Z",
     "start_time": "2024-08-22T13:28:20.938884Z"
    }
   },
   "cell_type": "code",
   "source": "newlisttwo=list(map(lambda x,y:x*y,newlist0,newlist1))",
   "id": "208145e96b101599",
   "outputs": [],
   "execution_count": 61
  },
  {
   "metadata": {
    "ExecuteTime": {
     "end_time": "2024-08-22T13:28:35.752626Z",
     "start_time": "2024-08-22T13:28:35.749020Z"
    }
   },
   "cell_type": "code",
   "source": "print(newlisttwo)",
   "id": "46c9a5886dd0570",
   "outputs": [
    {
     "name": "stdout",
     "output_type": "stream",
     "text": [
      "[7, 24, 16, 45]\n"
     ]
    }
   ],
   "execution_count": 65
  },
  {
   "metadata": {
    "ExecuteTime": {
     "end_time": "2024-08-22T13:28:28.644276Z",
     "start_time": "2024-08-22T13:28:28.641095Z"
    }
   },
   "cell_type": "code",
   "source": [
    "newlistthree=list(map(lambda x,y,z:x*y+z,newlist0,newlist1,newlist2))\n",
    "print(newlistthree)"
   ],
   "id": "cdd608952e82eda1",
   "outputs": [
    {
     "name": "stdout",
     "output_type": "stream",
     "text": [
      "[9, 30, 23, 53]\n"
     ]
    }
   ],
   "execution_count": 64
  },
  {
   "metadata": {},
   "cell_type": "markdown",
   "source": "OVERALL MAP FUNCTİON",
   "id": "e3edc2a428dfaab6"
  },
  {
   "metadata": {},
   "cell_type": "code",
   "outputs": [],
   "execution_count": null,
   "source": [
    "# Define a function that doubles the input value\n",
    "def double(a):\n",
    "    return a * 2\n",
    "\n",
    "# Test the function by doubling the number 5\n",
    "double(5)  # Output will be 10\n",
    "\n",
    "# Use the map function to apply 'double' to each element in the list [1, 2, 3, 4]\n",
    "# 'map' creates an iterator, which needs to be converted to a list\n",
    "map(double, [1, 2, 3, 4])  # Output: a map object (an iterator)\n",
    "\n",
    "# Convert the map object to a list and store it in a variable named 'list'\n",
    "list = list(map(double, [1, 2, 3, 4]))  # list will be [2, 4, 6, 8]\n",
    "\n",
    "# Print the resulting list\n",
    "print(list)  # Output: [2, 4, 6, 8]\n",
    "\n",
    "# Delete the 'list' variable to restore the original built-in list function\n",
    "del list\n",
    "\n",
    "# Use the map function again; now 'list' refers to the original list constructor\n",
    "list(map(double, [1, 2, 3, 4]))  # Converts the map object back into a list [2, 4, 6, 8]\n",
    "\n",
    "# Use a lambda function to achieve the same result as the 'double' function\n",
    "# The lambda function takes each element 'x' from the tuple and doubles it\n",
    "map(lambda x: x * 2, (12, 13, 14))  # Output: a map object that needs to be converted to a list\n",
    "\n",
    "# Convert the map object to a list and store it in 'list1'\n",
    "list1 = list(map(double, (12, 13, 14)))  # list1 will be [24, 26, 28]\n",
    "\n",
    "# Print the resulting list\n",
    "print(list1)  # Output: [24, 26, 28]\n",
    "\n",
    "# Use a lambda function to square each element in the tuple (1, 2, 3, ...)\n",
    "map(lambda a: a ** 2, (1, 2, 3, 4, 5, 6, 7, 8, 9))  # Creates a map object\n",
    "\n",
    "# Convert the map object to a list and store it in 'list2'\n",
    "list2 = list(map(double, (1, 2, 3, 4, 5, 6, 7, 8, 9)))  # list2 will be [2, 4, 6, 8, 10, 12, 14, 16, 18]\n",
    "\n",
    "# Print the resulting list\n",
    "print(list2)  # Output: [2, 4, 6, 8, 10, 12, 14, 16, 18]\n",
    "\n",
    "# Create three lists to demonstrate more complex uses of the map function\n",
    "newlist0 = [7, 8, 4, 5]\n",
    "newlist1 = [1, 3, 4, 9]\n",
    "newlist2 = [2, 6, 7, 8]\n",
    "\n",
    "# Use a lambda function to multiply corresponding elements of newlist0 and newlist1\n",
    "newlisttwo = list(map(lambda x, y: x * y, newlist0, newlist1))  # newlisttwo will be [7, 24, 16, 45]\n",
    "\n",
    "# Print the resulting list\n",
    "print(newlisttwo)  # Output: [7, 24, 16, 45]\n",
    "\n",
    "# Use a lambda function to multiply elements from newlist0 and newlist1, then add the corresponding element from newlist2\n",
    "newlistthree = list(map(lambda x, y, z: x * y + z, newlist0, newlist1, newlist2))  # newlistthree will be [9, 26, 35, 53]\n",
    "\n",
    "# Print the resulting list\n",
    "print(newlistthree)  # Output: [9, 26, 35, 53]\n"
   ],
   "id": "d5d245ec56bf6f24"
  },
  {
   "metadata": {},
   "cell_type": "markdown",
   "source": [
    "NOW REDUCE FUNCTION\n",
    "\n"
   ],
   "id": "2c1024ace64e99d3"
  },
  {
   "metadata": {
    "ExecuteTime": {
     "end_time": "2024-08-28T02:33:52.903556Z",
     "start_time": "2024-08-28T02:33:52.901615Z"
    }
   },
   "cell_type": "code",
   "source": "from functools import reduce",
   "id": "5bb6167b9b196b93",
   "outputs": [],
   "execution_count": 11
  },
  {
   "metadata": {
    "ExecuteTime": {
     "end_time": "2024-08-22T13:44:18.978585Z",
     "start_time": "2024-08-22T13:44:18.975962Z"
    }
   },
   "cell_type": "code",
   "source": [
    "def sum(a,b):\n",
    "    return a+b"
   ],
   "id": "9d6698dee6de4605",
   "outputs": [],
   "execution_count": 67
  },
  {
   "metadata": {
    "ExecuteTime": {
     "end_time": "2024-08-22T13:44:24.323965Z",
     "start_time": "2024-08-22T13:44:24.320351Z"
    }
   },
   "cell_type": "code",
   "source": "reduce(sum,(1,2,3,4,5,6,7,8,9))",
   "id": "6899c17e4b242c2a",
   "outputs": [
    {
     "data": {
      "text/plain": [
       "45"
      ]
     },
     "execution_count": 68,
     "metadata": {},
     "output_type": "execute_result"
    }
   ],
   "execution_count": 68
  },
  {
   "metadata": {
    "ExecuteTime": {
     "end_time": "2024-08-28T02:33:54.719971Z",
     "start_time": "2024-08-28T02:33:54.715632Z"
    }
   },
   "cell_type": "code",
   "source": "reduce(lambda a,b:a+b,(1,2,3,4,5,6,7,8,7,9))",
   "id": "6cb3ab9fc868418b",
   "outputs": [
    {
     "data": {
      "text/plain": [
       "52"
      ]
     },
     "execution_count": 12,
     "metadata": {},
     "output_type": "execute_result"
    }
   ],
   "execution_count": 12
  },
  {
   "metadata": {
    "ExecuteTime": {
     "end_time": "2024-08-28T02:34:48.882187Z",
     "start_time": "2024-08-28T02:34:48.877593Z"
    }
   },
   "cell_type": "code",
   "source": "reduce(lambda a,b:(a*b),(1,2,3,4,5,6,7,8,9))",
   "id": "348d4592a389f67e",
   "outputs": [
    {
     "data": {
      "text/plain": [
       "362880"
      ]
     },
     "execution_count": 16,
     "metadata": {},
     "output_type": "execute_result"
    }
   ],
   "execution_count": 16
  },
  {
   "metadata": {
    "ExecuteTime": {
     "end_time": "2024-08-22T14:12:44.200299Z",
     "start_time": "2024-08-22T14:12:44.197262Z"
    }
   },
   "cell_type": "code",
   "source": [
    "def max(x,y):\n",
    "    if x>y:\n",
    "        print(f\"{x}  is bigger than {y}\")\n",
    "    else:\n",
    "        print(f\"{y}  is  bigger than {x}\")\n"
   ],
   "id": "f6fe154d83374a9",
   "outputs": [],
   "execution_count": 79
  },
  {
   "metadata": {
    "ExecuteTime": {
     "end_time": "2024-08-28T02:45:00.924044Z",
     "start_time": "2024-08-28T02:44:57.290834Z"
    }
   },
   "cell_type": "code",
   "source": [
    "first=int(input(\"Enter first number: \"))\n",
    "second=int(input(\"Enter second number: \"))\n",
    "max(first,second)"
   ],
   "id": "fba2e665d8fea595",
   "outputs": [
    {
     "data": {
      "text/plain": [
       "34"
      ]
     },
     "execution_count": 19,
     "metadata": {},
     "output_type": "execute_result"
    }
   ],
   "execution_count": 19
  },
  {
   "metadata": {
    "ExecuteTime": {
     "end_time": "2024-08-22T14:14:32.619566Z",
     "start_time": "2024-08-22T14:14:32.615130Z"
    }
   },
   "cell_type": "code",
   "source": [
    "def max(x,y):\n",
    "    if x>y:\n",
    "        return x\n",
    "    else:\n",
    "        return y\n",
    "reduce(max,(1,2,3,4,5,6,7,8,9))#sipmle show case of reduce pretty cool 😎"
   ],
   "id": "7a5a832d754752a0",
   "outputs": [
    {
     "data": {
      "text/plain": [
       "9"
      ]
     },
     "execution_count": 82,
     "metadata": {},
     "output_type": "execute_result"
    }
   ],
   "execution_count": 82
  },
  {
   "metadata": {},
   "cell_type": "code",
   "outputs": [],
   "execution_count": null,
   "source": [
    "from functools import reduce  # Import the 'reduce' function from the functools module\n",
    "\n",
    "# Define a simple function to sum two numbers\n",
    "def sum(a, b):\n",
    "    return a + b\n",
    "\n",
    "# Use 'reduce' to sum all elements in the tuple (1, 2, 3, ...)\n",
    "# 'reduce' applies the 'sum' function cumulatively to the items of the tuple\n",
    "reduce(sum, (1, 2, 3, 4, 5, 6, 7, 8, 9))  # Output: 45 (1+2+3+...+9)\n",
    "\n",
    "# Use a lambda function instead of the 'sum' function to achieve the same result\n",
    "reduce(lambda a, b: a + b, (1, 2, 3, 4, 5, 6, 7, 8, 9))  # Output: 45\n",
    "\n",
    "# Use 'reduce' with a lambda function to multiply all elements in the tuple\n",
    "reduce(lambda a, b: a * b, (1, 2, 3, 4, 5, 6, 7, 8, 9))  # Output: 362880 (1*2*3*...*9)\n",
    "\n",
    "# Define a function to print which number is bigger between two\n",
    "def max(x, y):\n",
    "    if x > y:\n",
    "        print(f\"{x} is bigger than {y}\")\n",
    "    else:\n",
    "        print(f\"{y} is bigger than {x}\")\n",
    "\n",
    "# Test the 'max' function by comparing 13 and 54\n",
    "max(13, 54)  # Output: \"54 is bigger than 13\"\n",
    "\n",
    "# Redefine the 'max' function to return the bigger number instead of printing it\n",
    "def max(x, y):\n",
    "    if x > y:\n",
    "        return x\n",
    "    else:\n",
    "        return y\n",
    "\n",
    "# Use 'reduce' with the new 'max' function to find the maximum number in the tuple\n",
    "# 'reduce' applies 'max' cumulatively, returning the largest number in the tuple\n",
    "reduce(max, (1, 2, 3, 4, 5, 6, 7, 8, 9))  # Output: 9\n",
    "\n",
    "# Simple showcase of 'reduce' with a custom function to find the maximum number 😎\n"
   ],
   "id": "7c75e2aa78645526"
  },
  {
   "metadata": {},
   "cell_type": "markdown",
   "source": "Fİlter FUNCTION",
   "id": "888b9489feda69c4"
  },
  {
   "metadata": {
    "ExecuteTime": {
     "end_time": "2024-08-22T23:33:32.250796Z",
     "start_time": "2024-08-22T23:33:32.243087Z"
    }
   },
   "cell_type": "code",
   "source": "filter(lambda x: x%2==0, (1, 2, 3, 4, 5, 6, 7, 8, 9))",
   "id": "48b7f55f3449216d",
   "outputs": [
    {
     "data": {
      "text/plain": [
       "<filter at 0x105f07c10>"
      ]
     },
     "execution_count": 83,
     "metadata": {},
     "output_type": "execute_result"
    }
   ],
   "execution_count": 83
  },
  {
   "metadata": {
    "ExecuteTime": {
     "end_time": "2024-08-22T23:33:42.952526Z",
     "start_time": "2024-08-22T23:33:42.949156Z"
    }
   },
   "cell_type": "code",
   "source": "list1=list(filter(lambda x: x%2==0, (1, 2, 3, 4, 5, 6, 7, 8, 9)))",
   "id": "4155cf4a4f89cf7f",
   "outputs": [],
   "execution_count": 84
  },
  {
   "metadata": {
    "ExecuteTime": {
     "end_time": "2024-08-22T23:35:41.938532Z",
     "start_time": "2024-08-22T23:35:41.935505Z"
    }
   },
   "cell_type": "code",
   "source": "print(\"here are the even numbers --> \",list1)",
   "id": "fe8128f055b9e008",
   "outputs": [
    {
     "name": "stdout",
     "output_type": "stream",
     "text": [
      "here are the even numbers -->  [2, 4, 6, 8]\n"
     ]
    }
   ],
   "execution_count": 89
  },
  {
   "metadata": {
    "ExecuteTime": {
     "end_time": "2024-08-28T03:08:18.935582Z",
     "start_time": "2024-08-28T03:08:18.930862Z"
    }
   },
   "cell_type": "code",
   "source": [
    "def isPrime(x):\n",
    "    if x < 2:\n",
    "        return False\n",
    "    newList=list(filter(lambda b: x%b==0,range(2, int(x ** 0.5) + 1)))    #for b in range(2, 10):\n",
    "    if newList:#if new list is not empty which means we have dividers then this is not prime\n",
    "        return False\n",
    "    else:#we dont have dividers in newList which means it is prime\n",
    "        return True\n",
    "    print(newList)\n",
    "isPrime(5)#true means yes thıs number is prime "
   ],
   "id": "71f887559186ad47",
   "outputs": [
    {
     "data": {
      "text/plain": [
       "True"
      ]
     },
     "execution_count": 45,
     "metadata": {},
     "output_type": "execute_result"
    }
   ],
   "execution_count": 45
  },
  {
   "metadata": {
    "ExecuteTime": {
     "end_time": "2024-08-28T03:10:07.218289Z",
     "start_time": "2024-08-28T03:10:07.214963Z"
    }
   },
   "cell_type": "code",
   "source": [
    "def isPrime(x):\n",
    "    # Check if `x` is less than 2 (not prime)\n",
    "    if x < 2:\n",
    "        return False\n",
    "\n",
    "    # Check for any divisors in the range from 2 to the square root of `x`\n",
    "    # Using `range(2, int(x ** 0.5) + 1)` ensures we only check up to the square root of `x`.\n",
    "    divisors = list(filter(lambda b: x % b == 0, range(2, int(x ** 0.5) + 1)))\n",
    "\n",
    "    # If the list of divisors is empty, `x` is prime; otherwise, it is not\n",
    "    return len(divisors) == 0\n",
    "\n",
    "# Test the function\n",
    "print(isPrime(7))  # Output: True\n",
    "print(isPrime(11)) # Output: True\n",
    "print(isPrime(1))  # Output: False"
   ],
   "id": "8845034886c283fa",
   "outputs": [
    {
     "name": "stdout",
     "output_type": "stream",
     "text": [
      "True\n",
      "True\n",
      "False\n"
     ]
    }
   ],
   "execution_count": 47
  },
  {
   "metadata": {
    "ExecuteTime": {
     "end_time": "2024-08-22T23:52:10.727374Z",
     "start_time": "2024-08-22T23:52:10.722935Z"
    }
   },
   "cell_type": "code",
   "source": [
    "def isPrime(x):\n",
    "    # Check if x is divisible by any number from 2 to x-1 (excluding 1 and itself)\n",
    "    # If no such number exists, x is prime\n",
    "    if x < 2:\n",
    "        return False  # 0 and 1 are not prime numbers\n",
    "\n",
    "    # Use filter to check for any divisors\n",
    "    # If x % b == 0 for any b in range(2, x), x is not prime\n",
    "    newList = list(filter(lambda b: x % b == 0, range(2, x)))\n",
    "\n",
    "    # If newList is empty, it means x has no divisors and is prime\n",
    "    if not newList:\n",
    "        print(f\"{x} is  prime\")\n",
    "        return True  # x is prime\n",
    "    else:\n",
    "        print(f\"{x} is not prime\")\n",
    "        return False  # x is not prime\n",
    "\n",
    "# Test the function\n",
    "print(isPrime(11))  # Output: True (11 is prime)\n",
    "print(\"---------------\")\n",
    "print(isPrime(10))  # Output: False (10 is not prime)\n"
   ],
   "id": "d6b09ba607ad7033",
   "outputs": [
    {
     "name": "stdout",
     "output_type": "stream",
     "text": [
      "11 is  prime\n",
      "True\n",
      "---------------\n",
      "10 is not prime\n",
      "False\n"
     ]
    }
   ],
   "execution_count": 105
  },
  {
   "metadata": {},
   "cell_type": "markdown",
   "source": "ZIP FUNCTION \n",
   "id": "d39389454f285422"
  },
  {
   "metadata": {
    "ExecuteTime": {
     "end_time": "2024-08-23T13:51:58.187316Z",
     "start_time": "2024-08-23T13:51:58.184271Z"
    }
   },
   "cell_type": "code",
   "source": [
    "list1=[6,4,7,3,5,2,1]\n",
    "list2=[9,4,8,2.7,4,2,6.5]\n",
    "i=0\n",
    "result=list()\n",
    "while i<len(list1)and i<len(list2):\n",
    "    result.append((list1[i],list2[i]))\n",
    "    i+=1\n",
    "print(\"here are the zipped lists\\n-->\",result)"
   ],
   "id": "ec383459275ecf0e",
   "outputs": [
    {
     "name": "stdout",
     "output_type": "stream",
     "text": [
      "here are the zipped lists\n",
      "--> [(6, 9), (4, 4), (7, 8), (3, 2.7), (5, 4), (2, 2), (1, 6.5)]\n"
     ]
    }
   ],
   "execution_count": 112
  },
  {
   "metadata": {
    "ExecuteTime": {
     "end_time": "2024-08-23T18:37:41.998606Z",
     "start_time": "2024-08-23T18:37:41.995312Z"
    }
   },
   "cell_type": "code",
   "source": "zip(list1,list2)",
   "id": "93ebbc0b431deb51",
   "outputs": [
    {
     "data": {
      "text/plain": [
       "<zip at 0x105e2cb00>"
      ]
     },
     "execution_count": 113,
     "metadata": {},
     "output_type": "execute_result"
    }
   ],
   "execution_count": 113
  },
  {
   "metadata": {
    "ExecuteTime": {
     "end_time": "2024-08-23T18:37:52.835383Z",
     "start_time": "2024-08-23T18:37:52.832378Z"
    }
   },
   "cell_type": "code",
   "source": "list(zip(list1,list2))",
   "id": "3c42d7c9382af45d",
   "outputs": [
    {
     "data": {
      "text/plain": [
       "[(6, 9), (4, 4), (7, 8), (3, 2.7), (5, 4), (2, 2), (1, 6.5)]"
      ]
     },
     "execution_count": 114,
     "metadata": {},
     "output_type": "execute_result"
    }
   ],
   "execution_count": 114
  },
  {
   "metadata": {
    "ExecuteTime": {
     "end_time": "2024-08-23T18:38:47.252648Z",
     "start_time": "2024-08-23T18:38:47.249736Z"
    }
   },
   "cell_type": "code",
   "source": "print(\"here are the zipped lists\\n-->\",list(zip(list1,list2)))",
   "id": "1399bfd7d47b5f9e",
   "outputs": [
    {
     "name": "stdout",
     "output_type": "stream",
     "text": [
      "here are the zipped lists\n",
      "--> [(6, 9), (4, 4), (7, 8), (3, 2.7), (5, 4), (2, 2), (1, 6.5)]\n"
     ]
    }
   ],
   "execution_count": 118
  },
  {
   "metadata": {
    "ExecuteTime": {
     "end_time": "2024-08-23T18:39:04.936088Z",
     "start_time": "2024-08-23T18:39:04.933839Z"
    }
   },
   "cell_type": "code",
   "source": [
    "zipped=list(zip(list1,list2))       \n",
    "print(zipped)"
   ],
   "id": "4835f290b948e1c0",
   "outputs": [
    {
     "name": "stdout",
     "output_type": "stream",
     "text": [
      "[(6, 9), (4, 4), (7, 8), (3, 2.7), (5, 4), (2, 2), (1, 6.5)]\n"
     ]
    }
   ],
   "execution_count": 120
  },
  {
   "metadata": {
    "ExecuteTime": {
     "end_time": "2024-08-28T03:22:06.484961Z",
     "start_time": "2024-08-28T03:22:06.482285Z"
    }
   },
   "cell_type": "code",
   "source": [
    "list1=[1,2,3,4,5,6,7,8,9]\n",
    "list2=[\"python\",\"go\",\"javascript\",\"rust\",\"ruby on rails\"]\n",
    "for i,j in zip(list1,list2):\n",
    "    print(i,j)"
   ],
   "id": "e39d979bfcd29e7b",
   "outputs": [
    {
     "name": "stdout",
     "output_type": "stream",
     "text": [
      "1 python\n",
      "2 go\n",
      "3 javascript\n",
      "4 rust\n",
      "5 ruby on rails\n"
     ]
    }
   ],
   "execution_count": 51
  },
  {
   "metadata": {
    "ExecuteTime": {
     "end_time": "2024-08-28T03:22:49.047741Z",
     "start_time": "2024-08-28T03:22:49.044334Z"
    }
   },
   "cell_type": "code",
   "source": [
    "dict1={\"apple\":1,\"microsoft\":2,\"cvlab\":3}\n",
    "dict2={\"numberone\":4,\"second\":5}\n",
    "list(zip(dict1,dict2))"
   ],
   "id": "66c4d8a95f6a54cc",
   "outputs": [
    {
     "data": {
      "text/plain": [
       "[('apple', 'numberone'), ('microsoft', 'second')]"
      ]
     },
     "execution_count": 52,
     "metadata": {},
     "output_type": "execute_result"
    }
   ],
   "execution_count": 52
  },
  {
   "metadata": {
    "ExecuteTime": {
     "end_time": "2024-08-23T18:45:43.602025Z",
     "start_time": "2024-08-23T18:45:43.599132Z"
    }
   },
   "cell_type": "code",
   "source": "list(zip(dict1.values(),dict2.values()))",
   "id": "6d1df145b9f3b2c1",
   "outputs": [
    {
     "data": {
      "text/plain": [
       "[(1, 4), (2, 5)]"
      ]
     },
     "execution_count": 125,
     "metadata": {},
     "output_type": "execute_result"
    }
   ],
   "execution_count": 125
  },
  {
   "metadata": {},
   "cell_type": "markdown",
   "source": "final view of zip functıon",
   "id": "654213a7109770ea"
  },
  {
   "metadata": {},
   "cell_type": "code",
   "outputs": [],
   "execution_count": null,
   "source": [
    "list1 = [6, 4, 7, 3, 5, 2, 1]  # First list of numbers\n",
    "list2 = [9, 4, 8, 2.7, 4, 2, 6.5]  # Second list of numbers\n",
    "i = 0  # Initialize counter variable\n",
    "result = list()  # Create an empty list to store zipped tuples\n",
    "\n",
    "# Loop through both lists until the end of the shorter list is reached\n",
    "while i < len(list1) and i < len(list2):\n",
    "    result.append((list1[i], list2[i]))  # Append tuples of paired elements from list1 and list2\n",
    "    i += 1  # Increment the counter\n",
    "\n",
    "print(\"Here are the zipped lists\\n-->\", result)\n",
    "# Output: [(6, 9), (4, 4), (7, 8), (3, 2.7), (5, 4), (2, 2), (1, 6.5)]\n",
    "\n",
    "#instead of doing it with while and exc. using zip function is better\n",
    "# Using the built-in zip function to pair elements from list1 and list2\n",
    "zip(list1, list2)  # This returns a zip object, which is an iterator of tuples\n",
    "\n",
    "# Converting the zip object into a list of tuples\n",
    "list(zip(list1, list2))\n",
    "# Output: [(6, 9), (4, 4), (7, 8), (3, 2.7), (5, 4), (2, 2), (1, 6.5)]\n",
    "\n",
    "\n",
    "# Printing the zipped result directly using list and zip\n",
    "print(\"Here are the zipped lists\\n-->\", list(zip(list1, list2)))\n",
    "# Output: Here are the zipped lists --> [(6, 9), (4, 4), (7, 8), (3, 2.7), (5, 4), (2, 2), (1\n"
   ],
   "id": "f4eb068d54318a43"
  },
  {
   "metadata": {},
   "cell_type": "markdown",
   "source": [
    "ENUMERATE\n",
    "FUNCTION\n"
   ],
   "id": "6457314dd656a498"
  },
  {
   "metadata": {
    "ExecuteTime": {
     "end_time": "2024-08-23T19:01:43.552618Z",
     "start_time": "2024-08-23T19:01:43.549302Z"
    }
   },
   "cell_type": "code",
   "source": [
    "newList=[\"python\",\"go\",\"javascript\",\"Tesla\",\"Nvidia\"]\n",
    "i=0\n",
    "while i < len(newList):\n",
    "    print(i,newList[i])\n",
    "    i+=1"
   ],
   "id": "a3392fbad6f5adcb",
   "outputs": [
    {
     "name": "stdout",
     "output_type": "stream",
     "text": [
      "0 python\n",
      "1 go\n",
      "2 javascript\n",
      "3 Tesla\n",
      "4 Nvidia\n"
     ]
    }
   ],
   "execution_count": 134
  },
  {
   "metadata": {
    "ExecuteTime": {
     "end_time": "2024-08-23T19:01:39.699329Z",
     "start_time": "2024-08-23T19:01:39.696382Z"
    }
   },
   "cell_type": "code",
   "source": [
    "newList=[\"python\",\"go\",\"javascript\",\"Tesla\",\"Nvidia\"]\n",
    "i=0\n",
    "result=list()\n",
    "while i < len(newList):\n",
    "    result.append((i, newList[i]))\n",
    "    i+=1\n",
    "print(result)"
   ],
   "id": "e94217bb0372593d",
   "outputs": [
    {
     "name": "stdout",
     "output_type": "stream",
     "text": [
      "[(0, 'python'), (1, 'go'), (2, 'javascript'), (3, 'Tesla'), (4, 'Nvidia')]\n"
     ]
    }
   ],
   "execution_count": 133
  },
  {
   "metadata": {
    "ExecuteTime": {
     "end_time": "2024-08-23T19:04:26.582695Z",
     "start_time": "2024-08-23T19:04:26.579971Z"
    }
   },
   "cell_type": "code",
   "source": "myList=list(enumerate(newList))",
   "id": "67a3b0dadd9c408d",
   "outputs": [],
   "execution_count": 143
  },
  {
   "metadata": {
    "ExecuteTime": {
     "end_time": "2024-08-23T19:04:26.904965Z",
     "start_time": "2024-08-23T19:04:26.901823Z"
    }
   },
   "cell_type": "code",
   "source": "print(myList)",
   "id": "e352e6cc05c969ae",
   "outputs": [
    {
     "name": "stdout",
     "output_type": "stream",
     "text": [
      "[(0, 'python'), (1, 'go'), (2, 'javascript'), (3, 'Tesla'), (4, 'Nvidia')]\n"
     ]
    }
   ],
   "execution_count": 144
  },
  {
   "metadata": {
    "ExecuteTime": {
     "end_time": "2024-08-23T19:05:02.005932Z",
     "start_time": "2024-08-23T19:05:02.002006Z"
    }
   },
   "cell_type": "code",
   "source": "list(enumerate(newList))",
   "id": "ba915c4c54e0b2a7",
   "outputs": [
    {
     "data": {
      "text/plain": [
       "[(0, 'python'), (1, 'go'), (2, 'javascript'), (3, 'Tesla'), (4, 'Nvidia')]"
      ]
     },
     "execution_count": 145,
     "metadata": {},
     "output_type": "execute_result"
    }
   ],
   "execution_count": 145
  },
  {
   "metadata": {
    "ExecuteTime": {
     "end_time": "2024-08-28T04:02:36.274073Z",
     "start_time": "2024-08-28T04:02:36.270738Z"
    }
   },
   "cell_type": "code",
   "source": [
    "fruits = ['apple', 'banana', 'cherry']\n",
    "enum_fruits = enumerate(fruits)\n",
    "\n",
    "next_element = next(enum_fruits)\n",
    "print(f\"Next Element: {next_element}\")\n",
    "next_element = next(enum_fruits)#to call the next element ın list\n",
    "print(f\"Next Element: {next_element}\")"
   ],
   "id": "42e1cfbd9e138a0",
   "outputs": [
    {
     "name": "stdout",
     "output_type": "stream",
     "text": [
      "Next Element: (0, 'apple')\n",
      "Next Element: (1, 'banana')\n"
     ]
    }
   ],
   "execution_count": 55
  },
  {
   "metadata": {
    "ExecuteTime": {
     "end_time": "2024-08-23T19:06:18.579566Z",
     "start_time": "2024-08-23T19:06:18.577273Z"
    }
   },
   "cell_type": "code",
   "source": [
    "for i,j in enumerate(newList):\n",
    "    print(i,j)"
   ],
   "id": "f742c6f973462058",
   "outputs": [
    {
     "name": "stdout",
     "output_type": "stream",
     "text": [
      "0 python\n",
      "1 go\n",
      "2 javascript\n",
      "3 Tesla\n",
      "4 Nvidia\n"
     ]
    }
   ],
   "execution_count": 146
  },
  {
   "metadata": {
    "ExecuteTime": {
     "end_time": "2024-08-23T19:10:46.543382Z",
     "start_time": "2024-08-23T19:10:46.540624Z"
    }
   },
   "cell_type": "code",
   "source": [
    "evenList=[\"apple\",\"microsoft\",\"cvlab\",\"Tesla\",\"Nvidia\"]\n",
    "for i,j in enumerate(evenList):\n",
    "    if i%2==0:\n",
    "        print(j,\"index is even \")"
   ],
   "id": "b6313208037557ae",
   "outputs": [
    {
     "name": "stdout",
     "output_type": "stream",
     "text": [
      "apple index is even \n",
      "cvlab index is even \n",
      "Nvidia index is even \n"
     ]
    }
   ],
   "execution_count": 153
  },
  {
   "metadata": {},
   "cell_type": "code",
   "outputs": [],
   "execution_count": null,
   "source": [
    "newList = [\"python\", \"go\", \"javascript\", \"Tesla\", \"Nvidia\"]\n",
    "i = 0\n",
    "# Using a while loop to iterate over the list and print index and element\n",
    "while i < len(newList):\n",
    "    print(i, newList[i])  # Print the current index and element\n",
    "    i += 1  # Increment the index\n",
    "# Output:\n",
    "# 0 python\n",
    "# 1 go\n",
    "# 2 javascript\n",
    "# 3 Tesla\n",
    "# 4 Nvidia\n",
    "\n",
    "\n",
    "newList = [\"python\", \"go\", \"javascript\", \"Tesla\", \"Nvidia\"]\n",
    "i = 0\n",
    "result = list()  # Create an empty list to store tuples of (index, element)\n",
    "# Using a while loop to append tuples of (index, element) to result\n",
    "while i < len(newList):\n",
    "    result.append((i, newList[i]))  # Append the current index and element as a tuple\n",
    "    i += 1\n",
    "print(result)\n",
    "# Output: [(0, 'python'), (1, 'go'), (2, 'javascript'), (3, 'Tesla'), (4, 'Nvidia')]\n",
    "\n",
    "\n",
    "# Using the built-in enumerate function to create a list of tuples (index, element)\n",
    "myList = list(enumerate(newList))\n",
    "# myList will be: [(0, 'python'), (1, 'go'), (2, 'javascript'), (3, 'Tesla'), (4, 'Nvidia')]\n",
    "\n",
    "\n",
    "print(myList)\n",
    "# Output: [(0, 'python'), (1, 'go'), (2, 'javascript'), (3, 'Tesla'), (4, 'Nvidia')]\n",
    "\n",
    "\n",
    "# Directly printing the list created by enumerate\n",
    "list(enumerate(newList))\n",
    "# Output: [(0, 'python'), (1, 'go'), (2, 'javascript'), (3, 'Tesla'), (4, 'Nvidia')]\n",
    "\n",
    "\n",
    "# Using a for loop with enumerate to iterate over the list and print index and element\n",
    "for i, j in enumerate(newList):\n",
    "    print(i, j)\n",
    "# Output:\n",
    "# 0 python\n",
    "# 1 go\n",
    "# 2 javascript\n",
    "# 3 Tesla\n",
    "# 4 Nvidia\n",
    "\n",
    "\n",
    "evenList = [\"apple\", \"microsoft\", \"cvlab\", \"Tesla\", \"Nvidia\"]\n",
    "# Using enumerate to iterate over evenList and check for even indices\n",
    "for i, j in enumerate(evenList):\n",
    "    if i % 2 == 0:  # Check if the index is even\n",
    "        print(j, \"index is even\")\n",
    "# Output:\n",
    "# apple index is even\n",
    "# cvlab index is even\n",
    "# Nvidia index is even\n"
   ],
   "id": "f9e2ad7b081bea09"
  },
  {
   "metadata": {},
   "cell_type": "markdown",
   "source": [
    "ALL AND ANY FUNCTION\n",
    "\n"
   ],
   "id": "dca48fcb6001e0ac"
  },
  {
   "metadata": {
    "ExecuteTime": {
     "end_time": "2024-08-23T21:20:45.477273Z",
     "start_time": "2024-08-23T21:20:45.474392Z"
    }
   },
   "cell_type": "code",
   "source": [
    "def all(list):\n",
    "    for i in list:\n",
    "        if not i:\n",
    "            return False\n",
    "    return True"
   ],
   "id": "f78b43e89e0d390a",
   "outputs": [],
   "execution_count": 164
  },
  {
   "metadata": {
    "ExecuteTime": {
     "end_time": "2024-08-23T21:21:49.159085Z",
     "start_time": "2024-08-23T21:21:49.155730Z"
    }
   },
   "cell_type": "code",
   "source": [
    "newlist2=[True,False,True,False]\n",
    "all(newlist2)"
   ],
   "id": "507b6e8a7e8c8773",
   "outputs": [
    {
     "data": {
      "text/plain": [
       "False"
      ]
     },
     "execution_count": 168,
     "metadata": {},
     "output_type": "execute_result"
    }
   ],
   "execution_count": 168
  },
  {
   "metadata": {
    "ExecuteTime": {
     "end_time": "2024-08-23T21:21:46.707991Z",
     "start_time": "2024-08-23T21:21:46.704870Z"
    }
   },
   "cell_type": "code",
   "source": [
    "newlist3=[False,False]\n",
    "all(newlist3)"
   ],
   "id": "3c1b6f92606f2a21",
   "outputs": [
    {
     "data": {
      "text/plain": [
       "False"
      ]
     },
     "execution_count": 167,
     "metadata": {},
     "output_type": "execute_result"
    }
   ],
   "execution_count": 167
  },
  {
   "metadata": {
    "ExecuteTime": {
     "end_time": "2024-08-23T21:22:07.789892Z",
     "start_time": "2024-08-23T21:22:07.786508Z"
    }
   },
   "cell_type": "code",
   "source": [
    "newlist3=[True,True]\n",
    "all(newlist3)"
   ],
   "id": "a05e52ee26a6b5e3",
   "outputs": [
    {
     "data": {
      "text/plain": [
       "True"
      ]
     },
     "execution_count": 169,
     "metadata": {},
     "output_type": "execute_result"
    }
   ],
   "execution_count": 169
  },
  {
   "metadata": {
    "ExecuteTime": {
     "end_time": "2024-08-23T21:24:11.976255Z",
     "start_time": "2024-08-23T21:24:11.973490Z"
    }
   },
   "cell_type": "code",
   "source": [
    "def any(list):\n",
    "    for i in list:\n",
    "        if  i:\n",
    "            return True\n",
    "    return False"
   ],
   "id": "177f58afdf88a086",
   "outputs": [],
   "execution_count": 172
  },
  {
   "metadata": {
    "ExecuteTime": {
     "end_time": "2024-08-23T21:24:12.379849Z",
     "start_time": "2024-08-23T21:24:12.376982Z"
    }
   },
   "cell_type": "code",
   "source": [
    "newlist5=[True,False]\n",
    "any(newlist5)"
   ],
   "id": "f71cdcb0421ed09c",
   "outputs": [
    {
     "data": {
      "text/plain": [
       "True"
      ]
     },
     "execution_count": 173,
     "metadata": {},
     "output_type": "execute_result"
    }
   ],
   "execution_count": 173
  },
  {
   "metadata": {
    "ExecuteTime": {
     "end_time": "2024-08-23T21:25:34.441999Z",
     "start_time": "2024-08-23T21:25:34.439089Z"
    }
   },
   "cell_type": "code",
   "source": [
    "newlist0=[0,1,0,0,0,0,0,0,0,0]\n",
    "any(newlist0)"
   ],
   "id": "b3ae10b595e652fe",
   "outputs": [
    {
     "data": {
      "text/plain": [
       "True"
      ]
     },
     "execution_count": 177,
     "metadata": {},
     "output_type": "execute_result"
    }
   ],
   "execution_count": 177
  },
  {
   "metadata": {
    "ExecuteTime": {
     "end_time": "2024-08-23T21:25:35.345947Z",
     "start_time": "2024-08-23T21:25:35.342027Z"
    }
   },
   "cell_type": "code",
   "source": "all(newlist0)",
   "id": "e5dba998d336facd",
   "outputs": [
    {
     "data": {
      "text/plain": [
       "False"
      ]
     },
     "execution_count": 178,
     "metadata": {},
     "output_type": "execute_result"
    }
   ],
   "execution_count": 178
  },
  {
   "metadata": {
    "ExecuteTime": {
     "end_time": "2024-08-28T04:07:38.298771Z",
     "start_time": "2024-08-28T04:07:38.292974Z"
    }
   },
   "cell_type": "code",
   "source": [
    "def all(list):\n",
    "    # Iterate through each element in the list\n",
    "    for i in list:\n",
    "        # If any element is False (or equivalent to False), return False\n",
    "        if not i:\n",
    "            return False\n",
    "    # If no element is False, return True\n",
    "    return True\n",
    "\n",
    "\n",
    "newlist2 = [True, False, True, False]  # List containing both True and False\n",
    "print(all(newlist2))  # Output: False, because not all elements are True\n",
    "\n",
    "newlist3 = [False, False]  # List containing only False values\n",
    "print(all(newlist3))  # Output: False, because none of the elements are True\n",
    "\n",
    "newlist3 = [True, True]  # List containing only True values\n",
    "print(all(newlist3))  # Output: True, because all elements are True\n",
    "\n",
    "\n",
    "def any(list):\n",
    "    # Iterate through each element in the list\n",
    "    for i in list:\n",
    "        # If any element is True (or equivalent to True), return True\n",
    "        if i:\n",
    "            return True\n",
    "    # If no element is True, return False\n",
    "    return False\n",
    "\n",
    "\n",
    "newlist5 = [True, False]  # List containing both True and False\n",
    "print(any(newlist5))  # Output: True, because at least one element is True\n",
    "\n",
    "newlist0 = [0, 1, 0, 0, 0, 0, 0, 0, 0, 0]  # List with integers; 0 is False, 1 is True\n",
    "print(any(newlist0))  # Output: True, because 1 is True\n",
    "\n",
    "print(all(newlist0))  # Output: False, because not all elements are True (contains 0)\n"
   ],
   "id": "d4113039cdaf6d23",
   "outputs": [
    {
     "name": "stdout",
     "output_type": "stream",
     "text": [
      "False\n",
      "False\n",
      "True\n",
      "True\n",
      "True\n",
      "False\n"
     ]
    }
   ],
   "execution_count": 56
  },
  {
   "metadata": {
    "ExecuteTime": {
     "end_time": "2024-08-28T04:07:39.539624Z",
     "start_time": "2024-08-28T04:07:39.537331Z"
    }
   },
   "cell_type": "code",
   "source": [
    "# Delete the custom all() function\n",
    "del all\n",
    "# Delete the custom any() function\n",
    "del any"
   ],
   "id": "8c9df2c6351aac4d",
   "outputs": [],
   "execution_count": 57
  },
  {
   "metadata": {
    "ExecuteTime": {
     "end_time": "2024-08-23T21:34:35.587700Z",
     "start_time": "2024-08-23T21:34:35.584228Z"
    }
   },
   "cell_type": "code",
   "source": [
    "# Now the built-in functions can be used again\n",
    "newlist = [True, False, True, False]\n",
    "print(\"here is all functıon \",all(newlist))# Will now use the built-in all() function\n",
    "print(\"----------------\")\n",
    "print(\"here is any functıon\",any(newlist))  # Will now use the built-in any() function\n"
   ],
   "id": "22cdf6e63d3865a",
   "outputs": [
    {
     "name": "stdout",
     "output_type": "stream",
     "text": [
      "here is all functıon  False\n",
      "----------------\n",
      "here is any functıon True\n"
     ]
    }
   ],
   "execution_count": 190
  },
  {
   "metadata": {},
   "cell_type": "markdown",
   "source": "Finally  FINALLLY FINALLLLYYYY",
   "id": "4aa4ffe1e9da67e9"
  },
  {
   "metadata": {
    "ExecuteTime": {
     "end_time": "2024-08-23T22:55:53.448380Z",
     "start_time": "2024-08-23T22:55:53.424330Z"
    }
   },
   "cell_type": "code",
   "source": [
    "# Absolute Value\n",
    "# abs(x) returns the absolute value of x, which is the distance from zero.\n",
    "print(abs(-5))   # Output: 5\n",
    "print(abs(3))    # Output: 3\n",
    "\n",
    "# All\n",
    "# all(iterable) returns True if all elements in the iterable are True or if the iterable is empty.\n",
    "print(all([True, True, True]))   # Output: True\n",
    "print(all([True, False, True]))  # Output: False\n",
    "print(all([]))                   # Output: True (empty iterable)\n",
    "\n",
    "# Any\n",
    "# any(iterable) returns True if at least one element in the iterable is True. Returns False if all are False or the iterable is empty.\n",
    "print(any([False, False, True]))  # Output: True\n",
    "print(any([False, False, False])) # Output: False\n",
    "print(any([]))                    # Output: False (empty iterable)\n",
    "\n",
    "# Binary Representation\n",
    "# bin(x) converts an integer to its binary representation (as a string).\n",
    "print(bin(8))   # Output: '0b1000'\n",
    "print(bin(255)) # Output: '0b11111111'\n",
    "print(bin(47)) \n",
    "# Boolean Conversion\n",
    "# bool(x) converts a value to a Boolean, returning True or False.\n",
    "print(bool(1))     # Output: True\n",
    "print(bool(0))     # Output: False\n",
    "print(bool(\"\"))    # Output: False (empty string)\n",
    "print(bool(\"Hi\"))  # Output: True (non-empty string)\n",
    "\n",
    "# Callable\n",
    "# callable(object) checks if the object can be called (like a function).\n",
    "print(callable(print))  # Output: True (print is a function)\n",
    "print(callable(3))      # Output: False (integers are not callable)\n",
    "\n",
    "# Character Conversion\n",
    "# chr(i) converts an integer (Unicode code) to its corresponding character.\n",
    "print(chr(97))  # Output: 'a'\n",
    "print(chr(65))  # Output: 'A'\n",
    "\n",
    "# Directory Listing\n",
    "# dir([object]) returns a list of attributes and methods of an object. If no object is provided, it returns a list of names in the current scope.\n",
    "print(dir())   # Output: List of names in current scope\n",
    "print(dir([])) # Output: List of list methods and attributes\n",
    "\n",
    "# Divmod\n",
    "# divmod(a, b) returns a pair of numbers (quotient and remainder) for a divided by b.\n",
    "print(divmod(9, 2))  # Output: (4, 1) because 9 divided by 2 is 4 with a remainder of 1\n",
    "\n",
    "# Enumeration\n",
    "# enumerate(iterable, start=0) returns an enumerate object which yields pairs of index and value from the iterable.\n",
    "for index, value in enumerate([\"a\", \"b\", \"c\"]):\n",
    "    print(index, value)\n",
    "    # Output:\n",
    "    # 0 a\n",
    "    # 1 b\n",
    "    # 2 c\n",
    "\n",
    "# Evaluation\n",
    "# eval(expression) parses and evaluates the given expression (code) within the program.\n",
    "x = 1\n",
    "print(eval('x + 1'))  # Output: 2\n",
    "\n",
    "# Filter\n",
    "# filter(function, iterable) constructs an iterator from elements of iterable for which function returns True.\n",
    "def is_even(n):\n",
    "    return n % 2 == 0\n",
    "\n",
    "numbers = [1, 2, 3, 4, 5, 6]\n",
    "evens = list(filter(is_even, numbers))\n",
    "print(evens)  # Output: [2, 4, 6]\n",
    "\n",
    "# Float\n",
    "# float(x) converts a number or a string to a floating-point number.\n",
    "print(float(5))      # Output: 5.0\n",
    "print(float(\"3.14\")) # Output: 3.14\n",
    "\n",
    "# Integer\n",
    "# int(x, base=10) converts a number or a string to an integer, with an optional base for conversion.\n",
    "print(int(\"10\"))      # Output: 10\n",
    "print(int(\"1010\", 2)) # Output: 10 (binary to decimal)\n",
    "\n",
    "# Length\n",
    "# len(s) returns the number of items in an object. For strings, it returns the number of characters.\n",
    "print(len([1, 2, 3]))  # Output: 3\n",
    "print(len(\"hello\"))    # Output: 5\n",
    "\n",
    "# List\n",
    "# list(iterable) creates a list from an iterable.\n",
    "print(list(\"hello\"))  # Output: ['h', 'e', 'l', 'l', 'o']\n",
    "\n",
    "# Map\n",
    "# map(function, iterable) applies a function to every item of the iterable and returns a list of the results.\n",
    "def square(x):\n",
    "    return x * x\n",
    "\n",
    "numbers = [1, 2, 3, 4]\n",
    "squared = list(map(square, numbers))\n",
    "print(squared)  # Output: [1, 4, 9, 16]\n",
    "\n",
    "# Max\n",
    "# max(iterable, *[, key, default]) returns the largest item in an iterable or the largest of two or more arguments.\n",
    "print(max([1, 2, 3, 4]))  # Output: 4\n",
    "print(max(\"hello\"))       # Output: 'o'\n",
    "\n",
    "# Min\n",
    "# min(iterable, *[, key, default]) returns the smallest item in an iterable or the smallest of two or more arguments.\n",
    "print(min([1, 2, 3, 4]))  # Output: 1\n",
    "print(min(\"hello\"))       # Output: 'e'\n",
    "\n",
    "# Power\n",
    "# pow(x, y[, z]) returns x raised to the power of y. If z is present, it returns (x^y) % z.\n",
    "print(pow(2, 3))     # Output: 8\n",
    "print(pow(2, 3, 3))  # Output: 2 (because 2^3 % 3 = 8 % 3 = 2)\n",
    "\n",
    "# Range\n",
    "# range(start, stop[, step]) generates a sequence of numbers from start to stop - 1, incremented by step.\n",
    "for i in range(3):\n",
    "    print(i)\n",
    "    # Output:\n",
    "    # 0\n",
    "    # 1\n",
    "    # 2\n",
    "\n",
    "# Round\n",
    "# round(number[, ndigits]) rounds a floating-point number to a specified number of decimal places.\n",
    "print(round(3.14159, 2))  # Output: 3.14\n",
    "print(round(4.5))         # Output: 4\n",
    "\n",
    "# Sorted\n",
    "# sorted(iterable, *, key=None, reverse=False) returns a new sorted list from the elements of the iterable.\n",
    "print(sorted([3, 1, 2]))  # Output: [1, 2, 3]\n",
    "\n",
    "# String Conversion\n",
    "# str(object='') returns a string version of the object.\n",
    "print(str(123))  # Output: '123'\n",
    "print(str(45.67)) # Output: '45.67'\n",
    "\n",
    "# Sum\n",
    "# sum(iterable, /, start=0) sums the items of an iterable and returns the total. Optional start value is added to the sum.\n",
    "print(sum([1, 2, 3, 4]))  # Output: 10\n",
    "print(sum([1, 2, 3, 4], 5))  # Output: 15 (start=5)\n",
    "\n",
    "# Type\n",
    "# type(object) returns the type of the object.\n",
    "print(type(123))     # Output: <class 'int'>\n",
    "print(type(\"hello\")) # Output: <class 'str'>\n",
    "\n",
    "# Zip\n",
    "# zip(*iterables) aggregates elements from two or more iterables (lists, tuples) into tuples.\n",
    "print(list(zip([1, 2, 3], ['a', 'b', 'c'])))  # Output: [(1, 'a'), (2, 'b'), (3, 'c')]\n"
   ],
   "id": "d7a2302a29d514e2",
   "outputs": [
    {
     "name": "stdout",
     "output_type": "stream",
     "text": [
      "5\n",
      "3\n",
      "True\n",
      "False\n",
      "True\n",
      "True\n",
      "False\n",
      "False\n",
      "0b1000\n",
      "0b11111111\n",
      "0b101111\n",
      "True\n",
      "False\n",
      "False\n",
      "True\n",
      "True\n",
      "False\n",
      "a\n",
      "A\n",
      "['Image', 'In', 'Out', '_', '_113', '_114', '_122', '_123', '_124', '_125', '_135', '_139', '_145', '_162', '_163', '_166', '_167', '_168', '_169', '_171', '_173', '_175', '_176', '_177', '_178', '_18', '_2', '_221', '_222', '_224', '_24', '_26', '_30', '_38', '_39', '_42', '_49', '_5', '_52', '_68', '_71', '_72', '_74', '_82', '_83', '_9', '__', '___', '__builtin__', '__builtins__', '__doc__', '__loader__', '__name__', '__package__', '__spec__', '_dh', '_i', '_i1', '_i10', '_i100', '_i101', '_i102', '_i103', '_i104', '_i105', '_i106', '_i107', '_i108', '_i109', '_i11', '_i110', '_i111', '_i112', '_i113', '_i114', '_i115', '_i116', '_i117', '_i118', '_i119', '_i12', '_i120', '_i121', '_i122', '_i123', '_i124', '_i125', '_i126', '_i127', '_i128', '_i129', '_i13', '_i130', '_i131', '_i132', '_i133', '_i134', '_i135', '_i136', '_i137', '_i138', '_i139', '_i14', '_i140', '_i141', '_i142', '_i143', '_i144', '_i145', '_i146', '_i147', '_i148', '_i149', '_i15', '_i150', '_i151', '_i152', '_i153', '_i154', '_i155', '_i156', '_i157', '_i158', '_i159', '_i16', '_i160', '_i161', '_i162', '_i163', '_i164', '_i165', '_i166', '_i167', '_i168', '_i169', '_i17', '_i170', '_i171', '_i172', '_i173', '_i174', '_i175', '_i176', '_i177', '_i178', '_i179', '_i18', '_i180', '_i181', '_i182', '_i183', '_i184', '_i185', '_i186', '_i187', '_i188', '_i189', '_i19', '_i190', '_i191', '_i192', '_i193', '_i194', '_i195', '_i196', '_i197', '_i198', '_i199', '_i2', '_i20', '_i200', '_i201', '_i202', '_i203', '_i204', '_i205', '_i206', '_i207', '_i208', '_i209', '_i21', '_i210', '_i211', '_i212', '_i213', '_i214', '_i215', '_i216', '_i217', '_i218', '_i219', '_i22', '_i220', '_i221', '_i222', '_i223', '_i224', '_i225', '_i226', '_i227', '_i228', '_i229', '_i23', '_i230', '_i231', '_i232', '_i233', '_i234', '_i235', '_i236', '_i237', '_i238', '_i239', '_i24', '_i240', '_i241', '_i242', '_i243', '_i244', '_i245', '_i246', '_i247', '_i248', '_i249', '_i25', '_i250', '_i251', '_i252', '_i253', '_i26', '_i27', '_i28', '_i29', '_i3', '_i30', '_i31', '_i32', '_i33', '_i34', '_i35', '_i36', '_i37', '_i38', '_i39', '_i4', '_i40', '_i41', '_i42', '_i43', '_i44', '_i45', '_i46', '_i47', '_i48', '_i49', '_i5', '_i50', '_i51', '_i52', '_i53', '_i54', '_i55', '_i56', '_i57', '_i58', '_i59', '_i6', '_i60', '_i61', '_i62', '_i63', '_i64', '_i65', '_i66', '_i67', '_i68', '_i69', '_i7', '_i70', '_i71', '_i72', '_i73', '_i74', '_i75', '_i76', '_i77', '_i78', '_i79', '_i8', '_i80', '_i81', '_i82', '_i83', '_i84', '_i85', '_i86', '_i87', '_i88', '_i89', '_i9', '_i90', '_i91', '_i92', '_i93', '_i94', '_i95', '_i96', '_i97', '_i98', '_i99', '_ih', '_ii', '_iii', '_oh', '_pydevd_bundle', 'dict1', 'dict2', 'double', 'enum', 'evenList', 'evenListSort', 'evenListSorter', 'evens', 'exit', 'get_ipython', 'i', 'index', 'isPrime', 'isTriangle', 'is_even', 'j', 'list1', 'list2', 'liste', 'liste1', 'liste2', 'max', 'myList', 'names', 'newList', 'newlist', 'newlist0', 'newlist1', 'newlist2', 'newlist3', 'newlist5', 'newlistthree', 'newlisttwo', 'numbers', 'open', 'pydev_jupyter_vars', 'quit', 'reduce', 'remove_imported_pydev_package', 'result', 'square', 'squared', 'sum', 'surnames', 'sys', 'value', 'x', 'zipped']\n",
      "['__add__', '__class__', '__class_getitem__', '__contains__', '__delattr__', '__delitem__', '__dir__', '__doc__', '__eq__', '__format__', '__ge__', '__getattribute__', '__getitem__', '__getstate__', '__gt__', '__hash__', '__iadd__', '__imul__', '__init__', '__init_subclass__', '__iter__', '__le__', '__len__', '__lt__', '__mul__', '__ne__', '__new__', '__reduce__', '__reduce_ex__', '__repr__', '__reversed__', '__rmul__', '__setattr__', '__setitem__', '__sizeof__', '__str__', '__subclasshook__', 'append', 'clear', 'copy', 'count', 'extend', 'index', 'insert', 'pop', 'remove', 'reverse', 'sort']\n",
      "(4, 1)\n",
      "0 a\n",
      "1 b\n",
      "2 c\n",
      "2\n",
      "[2, 4, 6]\n",
      "5.0\n",
      "3.14\n",
      "10\n",
      "10\n",
      "3\n",
      "5\n",
      "['h', 'e', 'l', 'l', 'o']\n",
      "[1, 4, 9, 16]\n"
     ]
    },
    {
     "ename": "TypeError",
     "evalue": "max() missing 1 required positional argument: 'y'",
     "output_type": "error",
     "traceback": [
      "\u001B[0;31m---------------------------------------------------------------------------\u001B[0m",
      "\u001B[0;31mTypeError\u001B[0m                                 Traceback (most recent call last)",
      "Cell \u001B[0;32mIn[253], line 102\u001B[0m\n\u001B[1;32m     98\u001B[0m \u001B[38;5;28mprint\u001B[39m(squared)  \u001B[38;5;66;03m# Output: [1, 4, 9, 16]\u001B[39;00m\n\u001B[1;32m    100\u001B[0m \u001B[38;5;66;03m# Max\u001B[39;00m\n\u001B[1;32m    101\u001B[0m \u001B[38;5;66;03m# max(iterable, *[, key, default]) returns the largest item in an iterable or the largest of two or more arguments.\u001B[39;00m\n\u001B[0;32m--> 102\u001B[0m \u001B[38;5;28mprint\u001B[39m(\u001B[38;5;28mmax\u001B[39m([\u001B[38;5;241m1\u001B[39m, \u001B[38;5;241m2\u001B[39m, \u001B[38;5;241m3\u001B[39m, \u001B[38;5;241m4\u001B[39m]))  \u001B[38;5;66;03m# Output: 4\u001B[39;00m\n\u001B[1;32m    103\u001B[0m \u001B[38;5;28mprint\u001B[39m(\u001B[38;5;28mmax\u001B[39m(\u001B[38;5;124m\"\u001B[39m\u001B[38;5;124mhello\u001B[39m\u001B[38;5;124m\"\u001B[39m))       \u001B[38;5;66;03m# Output: 'o'\u001B[39;00m\n\u001B[1;32m    105\u001B[0m \u001B[38;5;66;03m# Min\u001B[39;00m\n\u001B[1;32m    106\u001B[0m \u001B[38;5;66;03m# min(iterable, *[, key, default]) returns the smallest item in an iterable or the smallest of two or more arguments.\u001B[39;00m\n",
      "\u001B[0;31mTypeError\u001B[0m: max() missing 1 required positional argument: 'y'"
     ]
    }
   ],
   "execution_count": 253
  },
  {
   "metadata": {
    "ExecuteTime": {
     "end_time": "2024-08-23T22:21:10.885760Z",
     "start_time": "2024-08-23T22:21:10.882077Z"
    }
   },
   "cell_type": "code",
   "source": [
    "liste=[(3,4),(10,3),(5,6),(1,9)]\n",
    "print(liste)\n",
    "print(liste[0][1])\n",
    "print(list(map(lambda x: x[0] * x[1], liste)))# well done   "
   ],
   "id": "48be3066426d0c78",
   "outputs": [
    {
     "name": "stdout",
     "output_type": "stream",
     "text": [
      "[(3, 4), (10, 3), (5, 6), (1, 9)]\n",
      "4\n",
      "[12, 30, 30, 9]\n"
     ]
    }
   ],
   "execution_count": 211
  },
  {
   "metadata": {
    "ExecuteTime": {
     "end_time": "2024-08-28T12:00:51.424543Z",
     "start_time": "2024-08-28T12:00:51.420915Z"
    }
   },
   "cell_type": "code",
   "source": [
    "liste=[(3,4,5),(6,8,10),(3,10,7),(4,5,6),(5,12,13)]\n",
    "print(liste)\n",
    "liste.sort(key=lambda x: x[2])\n",
    "print(\"the sorted list acorrding to hipo\\n-->\",liste)"
   ],
   "id": "b9f707ca7927a472",
   "outputs": [
    {
     "name": "stdout",
     "output_type": "stream",
     "text": [
      "[(3, 4, 5), (6, 8, 10), (3, 10, 7), (4, 5, 6), (5, 12, 13)]\n",
      "the sorted list acorrding to hipo\n",
      "--> [(3, 4, 5), (4, 5, 6), (3, 10, 7), (6, 8, 10), (5, 12, 13)]\n"
     ]
    }
   ],
   "execution_count": 61
  },
  {
   "metadata": {
    "ExecuteTime": {
     "end_time": "2024-08-28T12:02:04.243735Z",
     "start_time": "2024-08-28T12:02:04.240728Z"
    }
   },
   "cell_type": "code",
   "source": [
    "def isTriangle(myList):\n",
    "    triangles=list(filter(lambda x: pow(x[0], 2)+pow(x[1], 2) == pow(x[2], 2), myList))\n",
    "    #filter(lambda x: (x[0])*(x[0])+(x[1])*(x[1])==x[2]*x[2], myList)\n",
    "    if triangles:\n",
    "        print(\"it is Solid triangle\\n-->\",triangles)\n",
    "    else:\n",
    "        print(\"it is NOT triangle here sorry\",)"
   ],
   "id": "ec2b944c708cbcac",
   "outputs": [],
   "execution_count": 65
  },
  {
   "metadata": {
    "ExecuteTime": {
     "end_time": "2024-08-28T12:02:05.818258Z",
     "start_time": "2024-08-28T12:02:05.815680Z"
    }
   },
   "cell_type": "code",
   "source": [
    "isTriangle(liste)\n",
    "#list1=(dict.values(x[0],x[1],x[2]))\n",
    "#print(list1)\n"
   ],
   "id": "f7a2624d2d5e6fe1",
   "outputs": [
    {
     "name": "stdout",
     "output_type": "stream",
     "text": [
      "it is Solid triangle\n",
      "--> [(3, 4, 5), (6, 8, 10), (5, 12, 13)]\n"
     ]
    }
   ],
   "execution_count": 66
  },
  {
   "metadata": {
    "ExecuteTime": {
     "end_time": "2024-08-24T02:01:58.592393Z",
     "start_time": "2024-08-24T02:01:58.589433Z"
    }
   },
   "cell_type": "code",
   "source": [
    "# List of tuples representing sides of triangles\n",
    "liste = [(3, 4, 5), (6, 8, 10), (3, 10, 7), (4, 5, 6), (5, 12, 13)]\n",
    "\n",
    "# Print the original list\n",
    "print(liste)\n",
    "\n",
    "# Sort the list based on the third element of each tuple (the longest side)\n",
    "liste.sort(key=lambda x: x[2])\n",
    "\n",
    "# Print the sorted list\n",
    "print(liste)\n",
    "\n",
    "# Function to check if tuples in the list represent right-angled triangles\n",
    "def isTriangle(myList):\n",
    "    # Use filter to select only those tuples that satisfy the Pythagorean theorem\n",
    "    triangles = list(filter(lambda x: pow(x[0], 2) + pow(x[1], 2) == pow(x[2], 2), myList))\n",
    "\n",
    "    # If there are any right-angled triangles, print them\n",
    "    if triangles:\n",
    "        print(\"it is Solid triangle\", triangles)\n",
    "    else:\n",
    "        # If no right-angled triangles are found, print a different message\n",
    "        print(\"it is NOT triangle here sorry\")\n",
    "\n",
    "# Call the function with the sorted list to check for right-angled triangles\n",
    "isTriangle(liste)\n"
   ],
   "id": "1e1cbbb76f7f262d",
   "outputs": [
    {
     "name": "stdout",
     "output_type": "stream",
     "text": [
      "it is Soild triangle [(3, 4, 5), (6, 8, 10), (5, 12, 13)]\n"
     ]
    }
   ],
   "execution_count": 297
  },
  {
   "metadata": {
    "ExecuteTime": {
     "end_time": "2024-08-24T01:51:49.975843Z",
     "start_time": "2024-08-24T01:51:49.960195Z"
    }
   },
   "cell_type": "code",
   "source": [
    "liste = [(3, 4, 5), (6, 8, 10), (3, 10, 7), (4, 5, 6), (5, 12, 13)]\n",
    "print(\"Original List:\", liste)\n",
    "\n",
    "# Sorting the list by the third element of each tuple because hipotanus is always the big one\n",
    "liste.sort(key=lambda x: x[2])\n",
    "print(\"Sorted List:\", liste)\n",
    "#output  [(3, 4, 5), (4, 5, 6), (3, 10, 7), (6, 8, 10), (5, 12, 13)]\n",
    "# Function to check if a tuple represents a right triangle\n",
    "def isTriangle(myList):\n",
    "    # Filtering the list for tuples that satisfy the Pythagorean theorem\n",
    "    triangles = list(filter(lambda x: pow(x[0], 2) + pow(x[1], 2) == pow(x[2], 2), myList))\n",
    "\n",
    "    # Checking if any triangles were found\n",
    "    if triangles:\n",
    "        print(\"It is a triangle:\", triangles)\n",
    "    else:\n",
    "        print(\"It is NOT a triangle\")\n",
    "\n",
    "# Checking if the sorted list contains any right triangles\n",
    "isTriangle(liste)\n",
    "\n",
    "# There's no need for the following part as it doesn't apply correctly to this context\n",
    "# list1 = dict.values(x[0], x[1], x[2])\n",
    "# print(list1)\n"
   ],
   "id": "9de518182cd88431",
   "outputs": [
    {
     "name": "stdout",
     "output_type": "stream",
     "text": [
      "it is triangle\n",
      "it is NOT triangle\n"
     ]
    },
    {
     "ename": "TypeError",
     "evalue": "'int' object is not subscriptable",
     "output_type": "error",
     "traceback": [
      "\u001B[0;31m---------------------------------------------------------------------------\u001B[0m",
      "\u001B[0;31mTypeError\u001B[0m                                 Traceback (most recent call last)",
      "Cell \u001B[0;32mIn[289], line 1\u001B[0m\n\u001B[0;32m----> 1\u001B[0m isTriangle(liste)\n\u001B[1;32m      2\u001B[0m list1\u001B[38;5;241m=\u001B[39m(\u001B[38;5;28mdict\u001B[39m\u001B[38;5;241m.\u001B[39mvalues(x[\u001B[38;5;241m0\u001B[39m],x[\u001B[38;5;241m1\u001B[39m],x[\u001B[38;5;241m2\u001B[39m]))\n\u001B[1;32m      3\u001B[0m \u001B[38;5;28mprint\u001B[39m(list1)\n",
      "Cell \u001B[0;32mIn[287], line 7\u001B[0m, in \u001B[0;36misTriangle\u001B[0;34m(myList)\u001B[0m\n\u001B[1;32m      5\u001B[0m     \u001B[38;5;28mprint\u001B[39m(\u001B[38;5;124m\"\u001B[39m\u001B[38;5;124mit is triangle\u001B[39m\u001B[38;5;124m\"\u001B[39m)\n\u001B[1;32m      6\u001B[0m \u001B[38;5;28mprint\u001B[39m(\u001B[38;5;124m\"\u001B[39m\u001B[38;5;124mit is NOT triangle\u001B[39m\u001B[38;5;124m\"\u001B[39m)\n\u001B[0;32m----> 7\u001B[0m list1\u001B[38;5;241m=\u001B[39m(\u001B[38;5;28mdict\u001B[39m\u001B[38;5;241m.\u001B[39mvalues(x[\u001B[38;5;241m0\u001B[39m],x[\u001B[38;5;241m1\u001B[39m],x[\u001B[38;5;241m2\u001B[39m]))\n\u001B[1;32m      8\u001B[0m \u001B[38;5;28mprint\u001B[39m(list1)\n",
      "\u001B[0;31mTypeError\u001B[0m: 'int' object is not subscriptable"
     ]
    }
   ],
   "execution_count": 289
  },
  {
   "metadata": {
    "ExecuteTime": {
     "end_time": "2024-08-24T01:50:58.329830Z",
     "start_time": "2024-08-24T01:50:58.325482Z"
    }
   },
   "cell_type": "code",
   "source": [
    "def isTriangle(triangles):\n",
    "    def is_right_triangle(triangle):\n",
    "        # Sort the sides to ensure the largest side is treated as the hypotenuse\n",
    "        a, b, c = sorted(triangle)\n",
    "        return a**2 + b**2 == c**2\n",
    "\n",
    "    # Filter out the triangles that are right triangles\n",
    "    realTriangles = list(filter(is_right_triangle, triangles))\n",
    "\n",
    "    if realTriangles:\n",
    "        print(\"These are right triangles:\")\n",
    "        for i in realTriangles:\n",
    "            print(i)\n",
    "    else:\n",
    "        print(\"No right triangles found\")\n",
    "\n",
    "# Test the function with the list of triangles\n",
    "liste = [(3, 4, 5), (6, 8, 10), (3, 10, 7), (1, 5, 9), (5, 12,13 )]\n",
    "isTriangle(liste)\n"
   ],
   "id": "ed4ec65637db534f",
   "outputs": [
    {
     "name": "stdout",
     "output_type": "stream",
     "text": [
      "These are right triangles:\n",
      "(3, 4, 5)\n",
      "(6, 8, 10)\n",
      "(5, 12, 13)\n"
     ]
    }
   ],
   "execution_count": 282
  },
  {
   "metadata": {
    "ExecuteTime": {
     "end_time": "2024-08-23T22:40:55.388548Z",
     "start_time": "2024-08-23T22:40:55.384912Z"
    }
   },
   "cell_type": "code",
   "source": [
    "names=[\"Kerim\",\"Tarık\",\"Ezgi\",\"Kemal\",\"İlkay\",\"Şükran\",\"Merve\"]\n",
    "surnames=[\"Yılmaz\",\"Öztürk\",\"Dağdeviren\",\"Atatürk\",\"Dikmen\",\"Kaya\",\"Polat\"]\n",
    "list(zip(names,surnames))"
   ],
   "id": "5e9299385c129a6f",
   "outputs": [
    {
     "data": {
      "text/plain": [
       "[('Kerim', 'Yılmaz'),\n",
       " ('Tarık', 'Öztürk'),\n",
       " ('Ezgi', 'Dağdeviren'),\n",
       " ('Kemal', 'Atatürk'),\n",
       " ('İlkay', 'Dikmen'),\n",
       " ('Şükran', 'Kaya'),\n",
       " ('Merve', 'Polat')]"
      ]
     },
     "execution_count": 222,
     "metadata": {},
     "output_type": "execute_result"
    }
   ],
   "execution_count": 222
  },
  {
   "metadata": {
    "ExecuteTime": {
     "end_time": "2024-08-23T22:58:19.203486Z",
     "start_time": "2024-08-23T22:58:19.200815Z"
    }
   },
   "cell_type": "code",
   "source": [
    "evenList=[1,2,3,4,5,6,7,8,9,10]\n",
    "evenList.sort()\n",
    "#list(reduce(map(lambda x:x%2==0,evenList)))"
   ],
   "id": "78d6db8bc9d71be4",
   "outputs": [],
   "execution_count": 259
  },
  {
   "metadata": {
    "ExecuteTime": {
     "end_time": "2024-08-27T02:48:36.715989Z",
     "start_time": "2024-08-27T02:48:36.713292Z"
    }
   },
   "cell_type": "code",
   "source": [
    "def evenListSorter(liste):\n",
    "    return list(filter(lambda x: x%2==0, liste))"
   ],
   "id": "25718f3ee6ee9ddb",
   "outputs": [],
   "execution_count": 2
  },
  {
   "metadata": {
    "ExecuteTime": {
     "end_time": "2024-08-23T22:59:46.529053Z",
     "start_time": "2024-08-23T22:59:46.526700Z"
    }
   },
   "cell_type": "code",
   "source": [
    "result=evenListSorter(evenList)\n",
    "print(result)"
   ],
   "id": "8d3451df335514cf",
   "outputs": [
    {
     "name": "stdout",
     "output_type": "stream",
     "text": [
      "[2, 4, 6, 8, 10]\n"
     ]
    }
   ],
   "execution_count": 263
  },
  {
   "metadata": {
    "ExecuteTime": {
     "end_time": "2024-08-23T22:56:12.410632Z",
     "start_time": "2024-08-23T22:56:12.407344Z"
    }
   },
   "cell_type": "code",
   "source": [
    "from functools import reduce\n",
    "\n",
    "# Original list\n",
    "evenList = [1, 2, 3, 4, 5, 6, 7, 10,  8, 9,]\n",
    "\n",
    "# Sort the list\n",
    "evenList.sort()\n",
    "print(\"Sorted List:\", evenList)  # Output: Sorted List: [1, 2, 3, 4, 5, 6, 7, 8, 9, 10]\n",
    "\n",
    "# Function to filter even numbers\n",
    "def evenListSorter(lst):\n",
    "    return list(filter(lambda x: x % 2 == 0, lst))\n",
    "\n",
    "# Apply the function to filter even numbers\n",
    "filtered_even_list = evenListSorter(evenList)\n",
    "print(\"Filtered Even List:\", filtered_even_list)  # Output: Filtered Even List: [2, 4, 6, 8, 10]\n",
    "\n",
    "# Example of using reduce with a lambda function to aggregate the filtered list\n",
    "# For example, summing the even numbers\n",
    "result = reduce(lambda x, y: x + y, filtered_even_list, 0)\n",
    "print(\"Sum of Even Numbers:\", result)  # Output: Sum of Even Numbers: 30\n"
   ],
   "id": "c6c3d6824dda9609",
   "outputs": [
    {
     "name": "stdout",
     "output_type": "stream",
     "text": [
      "Sorted List: [1, 2, 3, 4, 5, 6, 7, 8, 9, 10]\n",
      "Filtered Even List: [2, 4, 6, 8, 10]\n",
      "Sum of Even Numbers: 30\n"
     ]
    }
   ],
   "execution_count": 254
  },
  {
   "metadata": {},
   "cell_type": "code",
   "outputs": [],
   "execution_count": null,
   "source": "",
   "id": "efe71111e7cfbffd"
  }
 ],
 "metadata": {
  "kernelspec": {
   "display_name": "Python 3",
   "language": "python",
   "name": "python3"
  },
  "language_info": {
   "codemirror_mode": {
    "name": "ipython",
    "version": 2
   },
   "file_extension": ".py",
   "mimetype": "text/x-python",
   "name": "python",
   "nbconvert_exporter": "python",
   "pygments_lexer": "ipython2",
   "version": "2.7.6"
  }
 },
 "nbformat": 4,
 "nbformat_minor": 5
}
