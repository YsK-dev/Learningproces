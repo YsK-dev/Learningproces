{
 "cells": [
  {
   "metadata": {},
   "cell_type": "markdown",
   "source": [
    "FUNCTIONS \n",
    "#Map funtion and all other embeded python functıons"
   ],
   "id": "58844382a365357b"
  },
  {
   "metadata": {
    "ExecuteTime": {
     "end_time": "2024-08-22T13:05:55.471919Z",
     "start_time": "2024-08-22T13:05:55.467358Z"
    }
   },
   "cell_type": "code",
   "source": [
    "def double(a):\n",
    "    return a*2\n",
    "double(5)"
   ],
   "id": "8a7434357d135594",
   "outputs": [
    {
     "data": {
      "text/plain": [
       "10"
      ]
     },
     "execution_count": 24,
     "metadata": {},
     "output_type": "execute_result"
    }
   ],
   "execution_count": 24
  },
  {
   "metadata": {
    "ExecuteTime": {
     "end_time": "2024-08-22T13:07:40.738059Z",
     "start_time": "2024-08-22T13:07:40.733082Z"
    }
   },
   "cell_type": "code",
   "source": "map(double, [1,2,3,4])#usually double function takes one argument but here it takes one argument from list and its execute",
   "id": "63fee8f6d3580008",
   "outputs": [
    {
     "data": {
      "text/plain": [
       "<map at 0x1052b44c0>"
      ]
     },
     "execution_count": 30,
     "metadata": {},
     "output_type": "execute_result"
    }
   ],
   "execution_count": 30
  },
  {
   "metadata": {
    "ExecuteTime": {
     "end_time": "2024-08-22T13:08:18.570405Z",
     "start_time": "2024-08-22T13:08:18.555348Z"
    }
   },
   "cell_type": "code",
   "source": "list=list(map(double, [1,2,3,4]))",
   "id": "773b1bb6476b24fd",
   "outputs": [
    {
     "ename": "TypeError",
     "evalue": "'list' object is not callable",
     "output_type": "error",
     "traceback": [
      "\u001B[0;31m---------------------------------------------------------------------------\u001B[0m",
      "\u001B[0;31mTypeError\u001B[0m                                 Traceback (most recent call last)",
      "Cell \u001B[0;32mIn[35], line 1\u001B[0m\n\u001B[0;32m----> 1\u001B[0m \u001B[38;5;28mlist\u001B[39m\u001B[38;5;241m=\u001B[39m\u001B[38;5;28mlist\u001B[39m(\u001B[38;5;28mmap\u001B[39m(double, [\u001B[38;5;241m1\u001B[39m,\u001B[38;5;241m2\u001B[39m,\u001B[38;5;241m3\u001B[39m,\u001B[38;5;241m4\u001B[39m]))\n",
      "\u001B[0;31mTypeError\u001B[0m: 'list' object is not callable"
     ]
    }
   ],
   "execution_count": 35
  },
  {
   "metadata": {
    "ExecuteTime": {
     "end_time": "2024-08-22T13:08:19.253273Z",
     "start_time": "2024-08-22T13:08:19.250284Z"
    }
   },
   "cell_type": "code",
   "source": "print(list)",
   "id": "5ac18b1e6aac379c",
   "outputs": [
    {
     "name": "stdout",
     "output_type": "stream",
     "text": [
      "[2, 4, 6, 8]\n"
     ]
    }
   ],
   "execution_count": 36
  },
  {
   "metadata": {
    "ExecuteTime": {
     "end_time": "2024-08-22T13:10:08.871599Z",
     "start_time": "2024-08-22T13:10:08.869020Z"
    }
   },
   "cell_type": "code",
   "source": "del list#ı change the built in list function for delete what ı do ı used del ",
   "id": "44c48894694aa944",
   "outputs": [],
   "execution_count": 37
  },
  {
   "metadata": {
    "ExecuteTime": {
     "end_time": "2024-08-22T13:10:22.529667Z",
     "start_time": "2024-08-22T13:10:22.525196Z"
    }
   },
   "cell_type": "code",
   "source": "list(map(double, [1,2,3,4]))# now list funtion works like in first place",
   "id": "54a8855029621643",
   "outputs": [
    {
     "data": {
      "text/plain": [
       "[2, 4, 6, 8]"
      ]
     },
     "execution_count": 38,
     "metadata": {},
     "output_type": "execute_result"
    }
   ],
   "execution_count": 38
  },
  {
   "metadata": {
    "ExecuteTime": {
     "end_time": "2024-08-22T13:17:23.974995Z",
     "start_time": "2024-08-22T13:17:23.970641Z"
    }
   },
   "cell_type": "code",
   "source": [
    "#instead of creating with funtion this time I will do it in lambda\n",
    "map(lambda x: x*2, (12,13,14))"
   ],
   "id": "838b1255c112ece8",
   "outputs": [
    {
     "data": {
      "text/plain": [
       "<map at 0x1052b46a0>"
      ]
     },
     "execution_count": 52,
     "metadata": {},
     "output_type": "execute_result"
    }
   ],
   "execution_count": 52
  },
  {
   "metadata": {
    "ExecuteTime": {
     "end_time": "2024-08-22T13:17:24.316992Z",
     "start_time": "2024-08-22T13:17:24.313756Z"
    }
   },
   "cell_type": "code",
   "source": "list1=list(map(double, (12,13,14)))",
   "id": "98309e7093e61e77",
   "outputs": [],
   "execution_count": 53
  },
  {
   "metadata": {
    "ExecuteTime": {
     "end_time": "2024-08-22T13:17:24.478509Z",
     "start_time": "2024-08-22T13:17:24.476377Z"
    }
   },
   "cell_type": "code",
   "source": "print(list1)",
   "id": "8e3aca85d1716118",
   "outputs": [
    {
     "name": "stdout",
     "output_type": "stream",
     "text": [
      "[24, 26, 28]\n"
     ]
    }
   ],
   "execution_count": 54
  },
  {
   "metadata": {
    "ExecuteTime": {
     "end_time": "2024-08-22T13:19:27.645586Z",
     "start_time": "2024-08-22T13:19:27.642310Z"
    }
   },
   "cell_type": "code",
   "source": [
    "map(lambda a:a**2,(1,2,3,4,5,6,7,8,9))#this time square of the each number in tupple\n",
    "list2=list(map(double, (1,2,3,4,5,6,7,8,9)))\n",
    "print(list2)"
   ],
   "id": "77c062793d1bd3ed",
   "outputs": [
    {
     "name": "stdout",
     "output_type": "stream",
     "text": [
      "[2, 4, 6, 8, 10, 12, 14, 16, 18]\n"
     ]
    }
   ],
   "execution_count": 55
  },
  {
   "metadata": {
    "ExecuteTime": {
     "end_time": "2024-08-22T13:24:49.531601Z",
     "start_time": "2024-08-22T13:24:49.528093Z"
    }
   },
   "cell_type": "code",
   "source": [
    "#creating lists to play with\n",
    "newlist0=[7,8,4,5]\n",
    "newlist1=[1,3,4,9]\n",
    "newlist2=[2,6,7,8]"
   ],
   "id": "16a323614e5bb4ec",
   "outputs": [],
   "execution_count": 58
  },
  {
   "metadata": {
    "ExecuteTime": {
     "end_time": "2024-08-22T13:28:20.942225Z",
     "start_time": "2024-08-22T13:28:20.938884Z"
    }
   },
   "cell_type": "code",
   "source": "newlisttwo=list(map(lambda x,y:x*y,newlist0,newlist1))",
   "id": "208145e96b101599",
   "outputs": [],
   "execution_count": 61
  },
  {
   "metadata": {
    "ExecuteTime": {
     "end_time": "2024-08-22T13:28:35.752626Z",
     "start_time": "2024-08-22T13:28:35.749020Z"
    }
   },
   "cell_type": "code",
   "source": "print(newlisttwo)",
   "id": "46c9a5886dd0570",
   "outputs": [
    {
     "name": "stdout",
     "output_type": "stream",
     "text": [
      "[7, 24, 16, 45]\n"
     ]
    }
   ],
   "execution_count": 65
  },
  {
   "metadata": {
    "ExecuteTime": {
     "end_time": "2024-08-22T13:28:28.644276Z",
     "start_time": "2024-08-22T13:28:28.641095Z"
    }
   },
   "cell_type": "code",
   "source": [
    "newlistthree=list(map(lambda x,y,z:x*y+z,newlist0,newlist1,newlist2))\n",
    "print(newlistthree)"
   ],
   "id": "cdd608952e82eda1",
   "outputs": [
    {
     "name": "stdout",
     "output_type": "stream",
     "text": [
      "[9, 30, 23, 53]\n"
     ]
    }
   ],
   "execution_count": 64
  },
  {
   "metadata": {},
   "cell_type": "markdown",
   "source": "OVERALL MAP FUNCTİON",
   "id": "e3edc2a428dfaab6"
  },
  {
   "metadata": {},
   "cell_type": "code",
   "outputs": [],
   "execution_count": null,
   "source": [
    "# Define a function that doubles the input value\n",
    "def double(a):\n",
    "    return a * 2\n",
    "\n",
    "# Test the function by doubling the number 5\n",
    "double(5)  # Output will be 10\n",
    "\n",
    "# Use the map function to apply 'double' to each element in the list [1, 2, 3, 4]\n",
    "# 'map' creates an iterator, which needs to be converted to a list\n",
    "map(double, [1, 2, 3, 4])  # Output: a map object (an iterator)\n",
    "\n",
    "# Convert the map object to a list and store it in a variable named 'list'\n",
    "list = list(map(double, [1, 2, 3, 4]))  # list will be [2, 4, 6, 8]\n",
    "\n",
    "# Print the resulting list\n",
    "print(list)  # Output: [2, 4, 6, 8]\n",
    "\n",
    "# Delete the 'list' variable to restore the original built-in list function\n",
    "del list\n",
    "\n",
    "# Use the map function again; now 'list' refers to the original list constructor\n",
    "list(map(double, [1, 2, 3, 4]))  # Converts the map object back into a list [2, 4, 6, 8]\n",
    "\n",
    "# Use a lambda function to achieve the same result as the 'double' function\n",
    "# The lambda function takes each element 'x' from the tuple and doubles it\n",
    "map(lambda x: x * 2, (12, 13, 14))  # Output: a map object that needs to be converted to a list\n",
    "\n",
    "# Convert the map object to a list and store it in 'list1'\n",
    "list1 = list(map(double, (12, 13, 14)))  # list1 will be [24, 26, 28]\n",
    "\n",
    "# Print the resulting list\n",
    "print(list1)  # Output: [24, 26, 28]\n",
    "\n",
    "# Use a lambda function to square each element in the tuple (1, 2, 3, ...)\n",
    "map(lambda a: a ** 2, (1, 2, 3, 4, 5, 6, 7, 8, 9))  # Creates a map object\n",
    "\n",
    "# Convert the map object to a list and store it in 'list2'\n",
    "list2 = list(map(double, (1, 2, 3, 4, 5, 6, 7, 8, 9)))  # list2 will be [2, 4, 6, 8, 10, 12, 14, 16, 18]\n",
    "\n",
    "# Print the resulting list\n",
    "print(list2)  # Output: [2, 4, 6, 8, 10, 12, 14, 16, 18]\n",
    "\n",
    "# Create three lists to demonstrate more complex uses of the map function\n",
    "newlist0 = [7, 8, 4, 5]\n",
    "newlist1 = [1, 3, 4, 9]\n",
    "newlist2 = [2, 6, 7, 8]\n",
    "\n",
    "# Use a lambda function to multiply corresponding elements of newlist0 and newlist1\n",
    "newlisttwo = list(map(lambda x, y: x * y, newlist0, newlist1))  # newlisttwo will be [7, 24, 16, 45]\n",
    "\n",
    "# Print the resulting list\n",
    "print(newlisttwo)  # Output: [7, 24, 16, 45]\n",
    "\n",
    "# Use a lambda function to multiply elements from newlist0 and newlist1, then add the corresponding element from newlist2\n",
    "newlistthree = list(map(lambda x, y, z: x * y + z, newlist0, newlist1, newlist2))  # newlistthree will be [9, 26, 35, 53]\n",
    "\n",
    "# Print the resulting list\n",
    "print(newlistthree)  # Output: [9, 26, 35, 53]\n"
   ],
   "id": "d5d245ec56bf6f24"
  },
  {
   "metadata": {},
   "cell_type": "markdown",
   "source": [
    "NOW REDUCE FUNCTION\n",
    "\n"
   ],
   "id": "2c1024ace64e99d3"
  },
  {
   "metadata": {
    "ExecuteTime": {
     "end_time": "2024-08-22T13:43:53.376828Z",
     "start_time": "2024-08-22T13:43:53.374249Z"
    }
   },
   "cell_type": "code",
   "source": "from functools import reduce",
   "id": "5bb6167b9b196b93",
   "outputs": [],
   "execution_count": 66
  },
  {
   "metadata": {
    "ExecuteTime": {
     "end_time": "2024-08-22T13:44:18.978585Z",
     "start_time": "2024-08-22T13:44:18.975962Z"
    }
   },
   "cell_type": "code",
   "source": [
    "def sum(a,b):\n",
    "    return a+b"
   ],
   "id": "9d6698dee6de4605",
   "outputs": [],
   "execution_count": 67
  },
  {
   "metadata": {
    "ExecuteTime": {
     "end_time": "2024-08-22T13:44:24.323965Z",
     "start_time": "2024-08-22T13:44:24.320351Z"
    }
   },
   "cell_type": "code",
   "source": "reduce(sum,(1,2,3,4,5,6,7,8,9))",
   "id": "6899c17e4b242c2a",
   "outputs": [
    {
     "data": {
      "text/plain": [
       "45"
      ]
     },
     "execution_count": 68,
     "metadata": {},
     "output_type": "execute_result"
    }
   ],
   "execution_count": 68
  },
  {
   "metadata": {
    "ExecuteTime": {
     "end_time": "2024-08-22T13:58:00.734809Z",
     "start_time": "2024-08-22T13:58:00.729872Z"
    }
   },
   "cell_type": "code",
   "source": "reduce(lambda a,b:a+b,(1,2,3,4,5,6,7,8,9))",
   "id": "6cb3ab9fc868418b",
   "outputs": [
    {
     "data": {
      "text/plain": [
       "45"
      ]
     },
     "execution_count": 71,
     "metadata": {},
     "output_type": "execute_result"
    }
   ],
   "execution_count": 71
  },
  {
   "metadata": {},
   "cell_type": "code",
   "outputs": [],
   "execution_count": null,
   "source": "",
   "id": "f6fe154d83374a9"
  }
 ],
 "metadata": {
  "kernelspec": {
   "display_name": "Python 3",
   "language": "python",
   "name": "python3"
  },
  "language_info": {
   "codemirror_mode": {
    "name": "ipython",
    "version": 2
   },
   "file_extension": ".py",
   "mimetype": "text/x-python",
   "name": "python",
   "nbconvert_exporter": "python",
   "pygments_lexer": "ipython2",
   "version": "2.7.6"
  }
 },
 "nbformat": 4,
 "nbformat_minor": 5
}
