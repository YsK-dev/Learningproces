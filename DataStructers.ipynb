{
 "cells": [
  {
   "metadata": {},
   "cell_type": "markdown",
   "source": "### Basic opearations in list",
   "id": "165d7b42e3ae57d8"
  },
  {
   "cell_type": "code",
   "id": "initial_id",
   "metadata": {
    "collapsed": true,
    "ExecuteTime": {
     "end_time": "2024-08-28T12:25:41.643708Z",
     "start_time": "2024-08-28T12:25:41.638681Z"
    }
   },
   "source": [
    "fruits = ['orange', 'apple', 'pear', 'banana', 'kiwi', 'apple', 'banana']\n",
    "fruits.count('apple')#"
   ],
   "outputs": [
    {
     "data": {
      "text/plain": [
       "2"
      ]
     },
     "execution_count": 46,
     "metadata": {},
     "output_type": "execute_result"
    }
   ],
   "execution_count": 46
  },
  {
   "metadata": {},
   "cell_type": "markdown",
   "source": "\n",
   "id": "654a2bc153dce27d"
  },
  {
   "metadata": {
    "ExecuteTime": {
     "end_time": "2024-08-28T12:25:42.484505Z",
     "start_time": "2024-08-28T12:25:42.479211Z"
    }
   },
   "cell_type": "code",
   "source": [
    "fruits.reverse()\n",
    "fruits"
   ],
   "id": "835db83d985d2601",
   "outputs": [
    {
     "data": {
      "text/plain": [
       "['banana', 'apple', 'kiwi', 'banana', 'pear', 'apple', 'orange']"
      ]
     },
     "execution_count": 47,
     "metadata": {},
     "output_type": "execute_result"
    }
   ],
   "execution_count": 47
  },
  {
   "metadata": {
    "ExecuteTime": {
     "end_time": "2024-08-28T12:25:49.343459Z",
     "start_time": "2024-08-28T12:25:49.338852Z"
    }
   },
   "cell_type": "code",
   "source": [
    "fruits.append('grape')\n",
    "fruits"
   ],
   "id": "4ae68f9660eac523",
   "outputs": [
    {
     "data": {
      "text/plain": [
       "['banana', 'apple', 'kiwi', 'banana', 'pear', 'apple', 'orange', 'grape']"
      ]
     },
     "execution_count": 48,
     "metadata": {},
     "output_type": "execute_result"
    }
   ],
   "execution_count": 48
  },
  {
   "metadata": {
    "ExecuteTime": {
     "end_time": "2024-08-28T12:25:52.517750Z",
     "start_time": "2024-08-28T12:25:52.512640Z"
    }
   },
   "cell_type": "code",
   "source": [
    "fruits.sort()\n",
    "fruits"
   ],
   "id": "426ac39ea9056235",
   "outputs": [
    {
     "data": {
      "text/plain": [
       "['apple', 'apple', 'banana', 'banana', 'grape', 'kiwi', 'orange', 'pear']"
      ]
     },
     "execution_count": 49,
     "metadata": {},
     "output_type": "execute_result"
    }
   ],
   "execution_count": 49
  },
  {
   "metadata": {
    "ExecuteTime": {
     "end_time": "2024-08-28T12:25:56.075237Z",
     "start_time": "2024-08-28T12:25:56.070318Z"
    }
   },
   "cell_type": "code",
   "source": "fruits.pop()\n",
   "id": "d1fd1f80c31173c6",
   "outputs": [
    {
     "data": {
      "text/plain": [
       "'pear'"
      ]
     },
     "execution_count": 50,
     "metadata": {},
     "output_type": "execute_result"
    }
   ],
   "execution_count": 50
  },
  {
   "metadata": {},
   "cell_type": "markdown",
   "source": "### another use case",
   "id": "8e12370c94c1d9bc"
  },
  {
   "metadata": {
    "ExecuteTime": {
     "end_time": "2024-08-29T01:28:13.779078Z",
     "start_time": "2024-08-29T01:28:13.774556Z"
    }
   },
   "cell_type": "code",
   "source": [
    "list=[\"go\",\"python\",\"javascript\",\"ruby\"]\n",
    "list.insert(1,\"rust\")\n",
    "print(list)"
   ],
   "id": "e69a2596447cc653",
   "outputs": [
    {
     "name": "stdout",
     "output_type": "stream",
     "text": [
      "['go', 'rust', 'python', 'javascript', 'ruby']\n"
     ]
    }
   ],
   "execution_count": 63
  },
  {
   "metadata": {
    "ExecuteTime": {
     "end_time": "2024-08-29T01:28:15.007625Z",
     "start_time": "2024-08-29T01:28:15.002492Z"
    }
   },
   "cell_type": "code",
   "source": "list.pop(3)#time for typescript so pop the javascript :d",
   "id": "cb82982b2db30f20",
   "outputs": [
    {
     "data": {
      "text/plain": [
       "'javascript'"
      ]
     },
     "execution_count": 64,
     "metadata": {},
     "output_type": "execute_result"
    }
   ],
   "execution_count": 64
  },
  {
   "metadata": {
    "ExecuteTime": {
     "end_time": "2024-08-29T01:28:15.362624Z",
     "start_time": "2024-08-29T01:28:15.359791Z"
    }
   },
   "cell_type": "code",
   "source": [
    "list.remove(\"go\")\n",
    "print(list)"
   ],
   "id": "8f31ff42fbf6b293",
   "outputs": [
    {
     "name": "stdout",
     "output_type": "stream",
     "text": [
      "['rust', 'python', 'ruby']\n"
     ]
    }
   ],
   "execution_count": 65
  },
  {
   "metadata": {},
   "cell_type": "code",
   "outputs": [],
   "execution_count": null,
   "source": "",
   "id": "e1ab21fcca8cb6be"
  }
 ],
 "metadata": {
  "kernelspec": {
   "display_name": "Python 3",
   "language": "python",
   "name": "python3"
  },
  "language_info": {
   "codemirror_mode": {
    "name": "ipython",
    "version": 2
   },
   "file_extension": ".py",
   "mimetype": "text/x-python",
   "name": "python",
   "nbconvert_exporter": "python",
   "pygments_lexer": "ipython2",
   "version": "2.7.6"
  }
 },
 "nbformat": 4,
 "nbformat_minor": 5
}
