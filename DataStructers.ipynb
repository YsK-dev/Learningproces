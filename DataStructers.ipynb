{
 "cells": [
  {
   "metadata": {},
   "cell_type": "markdown",
   "source": "### Basic opearations in list",
   "id": "165d7b42e3ae57d8"
  },
  {
   "cell_type": "code",
   "id": "initial_id",
   "metadata": {
    "collapsed": true,
    "ExecuteTime": {
     "end_time": "2024-08-28T12:25:41.643708Z",
     "start_time": "2024-08-28T12:25:41.638681Z"
    }
   },
   "source": [
    "fruits = ['orange', 'apple', 'pear', 'banana', 'kiwi', 'apple', 'banana']\n",
    "fruits.count('apple')#"
   ],
   "outputs": [
    {
     "data": {
      "text/plain": [
       "2"
      ]
     },
     "execution_count": 46,
     "metadata": {},
     "output_type": "execute_result"
    }
   ],
   "execution_count": 46
  },
  {
   "metadata": {},
   "cell_type": "markdown",
   "source": "\n",
   "id": "654a2bc153dce27d"
  },
  {
   "metadata": {
    "ExecuteTime": {
     "end_time": "2024-08-28T12:25:42.484505Z",
     "start_time": "2024-08-28T12:25:42.479211Z"
    }
   },
   "cell_type": "code",
   "source": [
    "fruits.reverse()\n",
    "fruits"
   ],
   "id": "835db83d985d2601",
   "outputs": [
    {
     "data": {
      "text/plain": [
       "['banana', 'apple', 'kiwi', 'banana', 'pear', 'apple', 'orange']"
      ]
     },
     "execution_count": 47,
     "metadata": {},
     "output_type": "execute_result"
    }
   ],
   "execution_count": 47
  },
  {
   "metadata": {
    "ExecuteTime": {
     "end_time": "2024-08-28T12:25:49.343459Z",
     "start_time": "2024-08-28T12:25:49.338852Z"
    }
   },
   "cell_type": "code",
   "source": [
    "fruits.append('grape')\n",
    "fruits"
   ],
   "id": "4ae68f9660eac523",
   "outputs": [
    {
     "data": {
      "text/plain": [
       "['banana', 'apple', 'kiwi', 'banana', 'pear', 'apple', 'orange', 'grape']"
      ]
     },
     "execution_count": 48,
     "metadata": {},
     "output_type": "execute_result"
    }
   ],
   "execution_count": 48
  },
  {
   "metadata": {
    "ExecuteTime": {
     "end_time": "2024-08-28T12:25:52.517750Z",
     "start_time": "2024-08-28T12:25:52.512640Z"
    }
   },
   "cell_type": "code",
   "source": [
    "fruits.sort()\n",
    "fruits"
   ],
   "id": "426ac39ea9056235",
   "outputs": [
    {
     "data": {
      "text/plain": [
       "['apple', 'apple', 'banana', 'banana', 'grape', 'kiwi', 'orange', 'pear']"
      ]
     },
     "execution_count": 49,
     "metadata": {},
     "output_type": "execute_result"
    }
   ],
   "execution_count": 49
  },
  {
   "metadata": {
    "ExecuteTime": {
     "end_time": "2024-08-28T12:25:56.075237Z",
     "start_time": "2024-08-28T12:25:56.070318Z"
    }
   },
   "cell_type": "code",
   "source": "fruits.pop()\n",
   "id": "d1fd1f80c31173c6",
   "outputs": [
    {
     "data": {
      "text/plain": [
       "'pear'"
      ]
     },
     "execution_count": 50,
     "metadata": {},
     "output_type": "execute_result"
    }
   ],
   "execution_count": 50
  },
  {
   "metadata": {},
   "cell_type": "markdown",
   "source": "### another use case",
   "id": "8e12370c94c1d9bc"
  },
  {
   "metadata": {
    "ExecuteTime": {
     "end_time": "2024-08-29T01:28:13.779078Z",
     "start_time": "2024-08-29T01:28:13.774556Z"
    }
   },
   "cell_type": "code",
   "source": [
    "list=[\"go\",\"python\",\"javascript\",\"ruby\"]\n",
    "list.insert(1,\"rust\")\n",
    "print(list)"
   ],
   "id": "e69a2596447cc653",
   "outputs": [
    {
     "name": "stdout",
     "output_type": "stream",
     "text": [
      "['go', 'rust', 'python', 'javascript', 'ruby']\n"
     ]
    }
   ],
   "execution_count": 63
  },
  {
   "metadata": {
    "ExecuteTime": {
     "end_time": "2024-08-29T01:28:15.007625Z",
     "start_time": "2024-08-29T01:28:15.002492Z"
    }
   },
   "cell_type": "code",
   "source": "list.pop(3)#time for typescript so pop the javascript :d",
   "id": "cb82982b2db30f20",
   "outputs": [
    {
     "data": {
      "text/plain": [
       "'javascript'"
      ]
     },
     "execution_count": 64,
     "metadata": {},
     "output_type": "execute_result"
    }
   ],
   "execution_count": 64
  },
  {
   "metadata": {
    "ExecuteTime": {
     "end_time": "2024-08-29T01:28:15.362624Z",
     "start_time": "2024-08-29T01:28:15.359791Z"
    }
   },
   "cell_type": "code",
   "source": [
    "list.remove(\"go\")\n",
    "print(list)"
   ],
   "id": "8f31ff42fbf6b293",
   "outputs": [
    {
     "name": "stdout",
     "output_type": "stream",
     "text": [
      "['rust', 'python', 'ruby']\n"
     ]
    }
   ],
   "execution_count": 65
  },
  {
   "metadata": {},
   "cell_type": "markdown",
   "source": "# Geeks for geeks python\n",
   "id": "9a2f3847b92ff501"
  },
  {
   "metadata": {
    "ExecuteTime": {
     "end_time": "2024-08-29T04:10:06.121473Z",
     "start_time": "2024-08-29T04:10:06.115959Z"
    }
   },
   "cell_type": "code",
   "source": [
    "import numpy as py\n",
    "\n",
    "a = py.array([[1,2,3,4],[4,55,1,2],\n",
    "              [8,3,20,19],[11,2,22,21]])\n",
    "m = py.reshape(a,(4, 4))\n",
    "print(m)"
   ],
   "id": "e1ab21fcca8cb6be",
   "outputs": [
    {
     "name": "stdout",
     "output_type": "stream",
     "text": [
      "[[ 1  2  3  4]\n",
      " [ 4 55  1  2]\n",
      " [ 8  3 20 19]\n",
      " [11  2 22 21]]\n"
     ]
    }
   ],
   "execution_count": 5
  },
  {
   "metadata": {},
   "cell_type": "markdown",
   "source": "### Accessing element",
   "id": "e93770e194237771"
  },
  {
   "metadata": {
    "ExecuteTime": {
     "end_time": "2024-08-29T04:08:57.696839Z",
     "start_time": "2024-08-29T04:08:57.692699Z"
    }
   },
   "cell_type": "code",
   "source": [
    "print(\"\\nAccessing Elements\")\n",
    "print(a[1])\n",
    "print(a[2][0])\n"
   ],
   "id": "71017979f07b6fa",
   "outputs": [
    {
     "name": "stdout",
     "output_type": "stream",
     "text": [
      "\n",
      "Accessing Elements\n",
      "[ 4 55  1  2]\n",
      "8\n"
     ]
    }
   ],
   "execution_count": 2
  },
  {
   "metadata": {},
   "cell_type": "markdown",
   "source": "### Adding Element",
   "id": "d9cb7672e7d8b814"
  },
  {
   "metadata": {
    "ExecuteTime": {
     "end_time": "2024-08-29T04:09:16.782464Z",
     "start_time": "2024-08-29T04:09:16.778128Z"
    }
   },
   "cell_type": "code",
   "source": [
    "m = py.append(m,[[1, 15,13,11]],0)\n",
    "print(\"\\nAdding Element\")\n",
    "print(m)"
   ],
   "id": "d78abe032d99588c",
   "outputs": [
    {
     "name": "stdout",
     "output_type": "stream",
     "text": [
      "\n",
      "Adding Element\n",
      "[[ 1  2  3  4]\n",
      " [ 4 55  1  2]\n",
      " [ 8  3 20 19]\n",
      " [11  2 22 21]\n",
      " [ 1 15 13 11]]\n"
     ]
    }
   ],
   "execution_count": 3
  },
  {
   "metadata": {},
   "cell_type": "markdown",
   "source": "### Deleting Element",
   "id": "1b5659a39f168ac5"
  },
  {
   "metadata": {
    "ExecuteTime": {
     "end_time": "2024-08-29T04:10:09.948309Z",
     "start_time": "2024-08-29T04:10:09.944124Z"
    }
   },
   "cell_type": "code",
   "source": [
    "m = py.delete(m,[1],0)\n",
    "print(\"\\nDeleting Element\"print(m)"
   ],
   "id": "e72c1900b8d9a194",
   "outputs": [
    {
     "name": "stdout",
     "output_type": "stream",
     "text": [
      "\n",
      "Deleting Element\n",
      "[[ 1  2  3  4]\n",
      " [ 8  3 20 19]\n",
      " [11  2 22 21]]\n"
     ]
    }
   ],
   "execution_count": 6
  },
  {
   "metadata": {},
   "cell_type": "markdown",
   "source": "# LİNKED LİST TRAVERSAL",
   "id": "1354537e19fbce8d"
  },
  {
   "metadata": {
    "ExecuteTime": {
     "end_time": "2024-08-29T04:17:21.481114Z",
     "start_time": "2024-08-29T04:17:21.475179Z"
    }
   },
   "cell_type": "code",
   "source": [
    "# A simple Python program to introduce a linked list\n",
    "\n",
    "# Node class\n",
    "class Node:\n",
    "\n",
    "    # Function to initialise the node object\n",
    "    def __init__(self, data):\n",
    "        self.data = data # Assign data\n",
    "        self.next = None # Initialize next as null\n",
    "\n",
    "\n",
    "# Linked List class contains a Node object\n",
    "class LinkedList:\n",
    "\n",
    "    # Function to initialize head\n",
    "    def __init__(self):\n",
    "        self.head = None\n",
    "\n",
    "\n",
    "# Code execution starts here\n",
    "if __name__=='__main__':\n",
    "\n",
    "    # Start with the empty list\n",
    "    llist = LinkedList()\n",
    "\n",
    "    llist.head = Node(1)\n",
    "    second = Node(2)\n",
    "    third = Node(3)\n",
    "\n",
    "    '''\n",
    "    Three nodes have been created.\n",
    "    We have references to these three blocks as head,\n",
    "    second and third\n",
    "\n",
    "    llist.head     second             third\n",
    "        |             |                 |\n",
    "        |             |                 |\n",
    "    +----+------+     +----+------+     +----+------+\n",
    "    | 1 | None |     | 2 | None |     | 3 | None |\n",
    "    +----+------+     +----+------+     +----+------+\n",
    "    '''\n",
    "\n",
    "    llist.head.next = second; # Link first node with second\n",
    "\n",
    "    '''\n",
    "    Now next of first Node refers to second. So they\n",
    "    both are linked.\n",
    "\n",
    "    llist.head     second             third\n",
    "        |             |                 |\n",
    "        |             |                 |\n",
    "    +----+------+     +----+------+     +----+------+\n",
    "    | 1 | o-------->| 2 | null |     | 3 | null |\n",
    "    +----+------+     +----+------+     +----+------+\n",
    "    '''\n",
    "\n",
    "    second.next = third; # Link second node with the third node\n",
    "\n",
    "    '''\n",
    "    Now next of second Node refers to third. So all three\n",
    "    nodes are linked.\n",
    "\n",
    "    llist.head     second             third\n",
    "        |             |                 |\n",
    "        |             |                 |\n",
    "    +----+------+     +----+------+     +----+------+\n",
    "    | 1 | o-------->| 2 | o-------->| 3 | null |\n",
    "    +----+------+     +----+------+     +----+------+\n",
    "    '''\n"
   ],
   "id": "8730732037048c96",
   "outputs": [],
   "execution_count": 8
  },
  {
   "metadata": {
    "ExecuteTime": {
     "end_time": "2024-08-29T04:17:39.911540Z",
     "start_time": "2024-08-29T04:17:39.906640Z"
    }
   },
   "cell_type": "code",
   "source": [
    "# A simple Python program for traversal of a linked list\n",
    "\n",
    "# Node class\n",
    "class Node:\n",
    "\n",
    "    # Function to initialise the node object\n",
    "    def __init__(self, data):\n",
    "        self.data = data # Assign data\n",
    "        self.next = None # Initialize next as null\n",
    "\n",
    "\n",
    "# Linked List class contains a Node object\n",
    "class LinkedList:\n",
    "\n",
    "    # Function to initialize head\n",
    "    def __init__(self):\n",
    "        self.head = None\n",
    "\n",
    "    # This function prints contents of linked list\n",
    "    # starting from head\n",
    "    def printList(self):\n",
    "        temp = self.head\n",
    "        while (temp):\n",
    "            print (temp.data)\n",
    "            temp = temp.next\n",
    "\n",
    "\n",
    "# Code execution starts here\n",
    "if __name__=='__main__':\n",
    "\n",
    "    # Start with the empty list\n",
    "    llist = LinkedList()\n",
    "\n",
    "    llist.head = Node(1)\n",
    "    second = Node(2)\n",
    "    third = Node(3)\n",
    "\n",
    "    llist.head.next = second; # Link first node with second\n",
    "    second.next = third; # Link second node with the third node\n",
    "\n",
    "    llist.printList()\n"
   ],
   "id": "5dbce4126795b836",
   "outputs": [
    {
     "name": "stdout",
     "output_type": "stream",
     "text": [
      "1\n",
      "2\n",
      "3\n"
     ]
    }
   ],
   "execution_count": 9
  },
  {
   "metadata": {},
   "cell_type": "markdown",
   "source": "### Reversed linked list",
   "id": "869f3564df49ece2"
  },
  {
   "metadata": {
    "ExecuteTime": {
     "end_time": "2024-08-29T04:30:39.592775Z",
     "start_time": "2024-08-29T04:30:39.586514Z"
    }
   },
   "cell_type": "code",
   "source": [
    "# Iterative Python program to reverse a linked list\n",
    "class Node:\n",
    "    def __init__(self, new_data):\n",
    "        self.data = new_data\n",
    "        self.next = None\n",
    "\n",
    "# Given the head of a list, reverse the list and return the\n",
    "# head of reversed list\n",
    "def reverse_list(head):\n",
    "\n",
    "    # Initialize three pointers: curr, prev and next\n",
    "    curr = head\n",
    "    prev = None\n",
    "\n",
    "    # Traverse all the nodes of Linked List\n",
    "    while curr is not None:\n",
    "\n",
    "        # Store next\n",
    "        next_node = curr.next\n",
    "\n",
    "        # Reverse current node's next pointer\n",
    "        curr.next = prev\n",
    "\n",
    "        # Move pointers one position ahead\n",
    "        prev = curr\n",
    "        curr = next_node\n",
    "\n",
    "    # Return the head of reversed linked list\n",
    "    return prev\n",
    "\n",
    "def print_list(node):\n",
    "    while node is not None:\n",
    "        print(f\" {node.data}\", end=\"\")\n",
    "        node = node.next\n",
    "    print()\n",
    "\n",
    "if __name__ == \"__main__\":\n",
    "    ''' Create a hard-coded linked list:\n",
    "     1 -> 2 -> 3 -> 4 -> 5 '''\n",
    "\n",
    "    head = Node(1)\n",
    "    head.next = Node(2)\n",
    "    head.next.next = Node(3)\n",
    "    head.next.next.next = Node(4)\n",
    "    head.next.next.next.next = Node(5)\n",
    "\n",
    "    print(\"Given Linked list:\", end=\"\")\n",
    "    print_list(head)\n",
    "\n",
    "    head = reverse_list(head)\n",
    "\n",
    "    print(\"Reversed Linked List:\", end=\"\")\n",
    "    print_list(head)\n"
   ],
   "id": "8e1f638df2afb56b",
   "outputs": [
    {
     "name": "stdout",
     "output_type": "stream",
     "text": [
      "Given Linked list: 1 2 3 4 5\n",
      "Reversed Linked List: 5 4 3 2 1\n"
     ]
    }
   ],
   "execution_count": 10
  },
  {
   "metadata": {},
   "cell_type": "markdown",
   "source": "# A * Search Algorithm in Python\n",
   "id": "28da50d2062eb602"
  },
  {
   "metadata": {
    "ExecuteTime": {
     "end_time": "2024-08-29T07:36:58.328178Z",
     "start_time": "2024-08-29T07:36:58.314159Z"
    }
   },
   "cell_type": "code",
   "source": [
    "from queue import PriorityQueue\n",
    "\n",
    "# A class to represent a node in the grid\n",
    "class Node:\n",
    "    def __init__(self, parent=None, position=None):\n",
    "        self.parent = parent\n",
    "        self.position = position\n",
    "\n",
    "        self.g = 0  # Distance from start node\n",
    "        self.h = 0  # Heuristic - estimated distance from current node to end node\n",
    "        self.f = 0  # Total cost\n",
    "\n",
    "    def __eq__(self, other):\n",
    "        return self.position == other.position\n",
    "\n",
    "# A* search algorithm\n",
    "def astar(maze, start, end):\n",
    "    # Create start and end node\n",
    "    start_node = Node(None, start)\n",
    "    end_node = Node(None, end)\n",
    "\n",
    "    # Initialize both open and closed lists\n",
    "    open_list = PriorityQueue()\n",
    "    open_list.put((0, start_node))  # (f, node)\n",
    "    closed_list = set()\n",
    "\n",
    "    while not open_list.empty():\n",
    "        _, current_node = open_list.get()\n",
    "        closed_list.add(current_node.position)\n",
    "\n",
    "        # If the end is reached, reconstruct the path\n",
    "        if current_node == end_node:\n",
    "            path = []\n",
    "            while current_node is not None:\n",
    "                path.append(current_node.position)\n",
    "                current_node = current_node.parent\n",
    "            return path[::-1]  # Return reversed path\n",
    "\n",
    "        # Generate children\n",
    "        children = []\n",
    "        for new_position in [(0, -1), (0, 1), (-1, 0), (1, 0)]:  # Adjacent squares (left, right, up, down)\n",
    "            node_position = (current_node.position[0] + new_position[0],\n",
    "                             current_node.position[1] + new_position[1])\n",
    "\n",
    "            # Make sure within range and walkable (i.e., not a wall)\n",
    "            if (0 <= node_position[0] < len(maze) and\n",
    "                    0 <= node_position[1] < len(maze[0]) and\n",
    "                    maze[node_position[0]][node_position[1]] == 0):\n",
    "\n",
    "                new_node = Node(current_node, node_position)\n",
    "                children.append(new_node)\n",
    "\n",
    "        # Loop through children\n",
    "        for child in children:\n",
    "            if child.position in closed_list:\n",
    "                continue\n",
    "\n",
    "            # Calculate the f, g, and h values\n",
    "            child.g = current_node.g + 1\n",
    "            child.h = ((child.position[0] - end_node.position[0]) ** 2 +\n",
    "                       (child.position[1] - end_node.position[1]) ** 2)\n",
    "            child.f = child.g + child.h\n",
    "\n",
    "            # If child is already in open list with a higher cost, skip it\n",
    "            if any(open_child[1].position == child.position and open_child[1].f <= child.f for open_child in open_list.queue):\n",
    "                continue\n",
    "\n",
    "            # Add the child to the open list\n",
    "            open_list.put((child.f, child))\n",
    "\n",
    "    return None  # No path found\n",
    "\n",
    "# Example usage\n",
    "maze = [\n",
    "    [0, 1, 0, 0, 0],\n",
    "    [0, 1, 0, 1, 0],\n",
    "    [0, 0, 0, 1, 0],\n",
    "    [0, 1, 1, 1, 0],\n",
    "    [0, 0, 0, 0, 0]\n",
    "]\n",
    "\n",
    "start = (0, 0)\n",
    "end = (4, 4)\n",
    "\n",
    "path = astar(maze, start, end)\n",
    "print(\"Path found:\", path)\n"
   ],
   "id": "1711285531713f4d",
   "outputs": [
    {
     "name": "stdout",
     "output_type": "stream",
     "text": [
      "Path found: [(0, 0), (1, 0), (2, 0), (3, 0), (4, 0), (4, 1), (4, 2), (4, 3), (4, 4)]\n"
     ]
    }
   ],
   "execution_count": 11
  },
  {
   "metadata": {},
   "cell_type": "code",
   "outputs": [],
   "execution_count": null,
   "source": "",
   "id": "5861ed0a70336bb0"
  }
 ],
 "metadata": {
  "kernelspec": {
   "display_name": "Python 3",
   "language": "python",
   "name": "python3"
  },
  "language_info": {
   "codemirror_mode": {
    "name": "ipython",
    "version": 2
   },
   "file_extension": ".py",
   "mimetype": "text/x-python",
   "name": "python",
   "nbconvert_exporter": "python",
   "pygments_lexer": "ipython2",
   "version": "2.7.6"
  }
 },
 "nbformat": 4,
 "nbformat_minor": 5
}
