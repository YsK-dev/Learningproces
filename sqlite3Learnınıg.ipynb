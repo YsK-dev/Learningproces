{
 "cells": [
  {
   "cell_type": "code",
   "id": "initial_id",
   "metadata": {
    "collapsed": true,
    "ExecuteTime": {
     "end_time": "2024-08-29T12:27:35.416697Z",
     "start_time": "2024-08-29T12:27:35.413754Z"
    }
   },
   "source": [
    "import sqlite3\n",
    "connection=sqlite3.connect('mydb.db')\n",
    "cursor=connection.cursor()\n",
    "connection.commit()\n"
   ],
   "outputs": [],
   "execution_count": 45
  },
  {
   "metadata": {
    "ExecuteTime": {
     "end_time": "2024-08-29T12:27:35.770764Z",
     "start_time": "2024-08-29T12:27:35.768384Z"
    }
   },
   "cell_type": "code",
   "source": [
    "def createtable():\n",
    "    cursor.execute('''CREATE TABLE IF NOT EXISTS kitapp (name TEXT PRIMARY KEY,Surname TEXT,Age INTEGER)''')\n",
    "    connection.commit()\n"
   ],
   "id": "ec283aeffa87a972",
   "outputs": [],
   "execution_count": 46
  },
  {
   "metadata": {
    "ExecuteTime": {
     "end_time": "2024-08-29T12:27:46.586603Z",
     "start_time": "2024-08-29T12:27:46.583345Z"
    }
   },
   "cell_type": "code",
   "source": [
    "def insertdata():\n",
    "    cursor.execute('''INSERT INTO kitapp values('MAHMUT','SİNECEN',44)''')\n",
    "    connection.commit()\n"
   ],
   "id": "24d2062e04b0d38",
   "outputs": [],
   "execution_count": 50
  },
  {
   "metadata": {
    "ExecuteTime": {
     "end_time": "2024-08-29T12:27:47.067346Z",
     "start_time": "2024-08-29T12:27:47.064684Z"
    }
   },
   "cell_type": "code",
   "source": "createtable()\n",
   "id": "d66764aba5d3115a",
   "outputs": [],
   "execution_count": 51
  },
  {
   "metadata": {
    "ExecuteTime": {
     "end_time": "2024-08-29T12:27:47.753637Z",
     "start_time": "2024-08-29T12:27:47.742811Z"
    }
   },
   "cell_type": "code",
   "source": "insertdata()\n",
   "id": "63a153049ce2500f",
   "outputs": [],
   "execution_count": 52
  },
  {
   "metadata": {
    "ExecuteTime": {
     "end_time": "2024-08-29T12:27:48.982790Z",
     "start_time": "2024-08-29T12:27:48.979079Z"
    }
   },
   "cell_type": "code",
   "source": "connection.close()",
   "id": "adea17921d24a57",
   "outputs": [],
   "execution_count": 53
  },
  {
   "metadata": {},
   "cell_type": "markdown",
   "source": "# Getting values from table",
   "id": "f8008886b9f368a8"
  },
  {
   "metadata": {
    "ExecuteTime": {
     "end_time": "2024-08-29T19:45:19.559058Z",
     "start_time": "2024-08-29T19:45:19.555687Z"
    }
   },
   "cell_type": "code",
   "source": [
    "import sqlite3\n",
    "connection=sqlite3.connect('mydb.db')\n",
    "cur=connection.cursor()\n"
   ],
   "id": "f7f234321378904c",
   "outputs": [],
   "execution_count": 89
  },
  {
   "metadata": {
    "ExecuteTime": {
     "end_time": "2024-08-29T19:45:20.264948Z",
     "start_time": "2024-08-29T19:45:20.261703Z"
    }
   },
   "cell_type": "code",
   "source": [
    "def createtable():\n",
    "    cur.execute('''CREATE TABLE IF NOT EXISTS kitapp (name TEXT PRIMARY KEY,Surname TEXT,Age INTEGER)''')\n",
    "    connection.commit()"
   ],
   "id": "d5ed5fce21c36dd",
   "outputs": [],
   "execution_count": 90
  },
  {
   "metadata": {
    "ExecuteTime": {
     "end_time": "2024-08-29T19:45:20.746885Z",
     "start_time": "2024-08-29T19:45:20.744597Z"
    }
   },
   "cell_type": "code",
   "source": [
    "def insertdata():\n",
    "    cur.execute('''INSERT INTO kitapp values('MAHMUT','SİNECEN',44)''')\n",
    "    connection.commit()"
   ],
   "id": "50e2288bd70c2be4",
   "outputs": [],
   "execution_count": 91
  },
  {
   "metadata": {
    "ExecuteTime": {
     "end_time": "2024-08-29T19:45:21.505597Z",
     "start_time": "2024-08-29T19:45:21.501995Z"
    }
   },
   "cell_type": "code",
   "source": [
    "def takedata():\n",
    "    cur.execute('''SELECT * FROM kitapp''')\n",
    "    data_liste=cursor.fetchall()\n",
    "    print(data_liste)"
   ],
   "id": "d44a6b7cc651fec3",
   "outputs": [],
   "execution_count": 92
  },
  {
   "metadata": {
    "ExecuteTime": {
     "end_time": "2024-08-29T19:45:22.444729Z",
     "start_time": "2024-08-29T19:45:22.424291Z"
    }
   },
   "cell_type": "code",
   "source": "takedata()\n",
   "id": "188807e01e727413",
   "outputs": [
    {
     "ename": "ProgrammingError",
     "evalue": "Cannot operate on a closed database.",
     "output_type": "error",
     "traceback": [
      "\u001B[0;31m---------------------------------------------------------------------------\u001B[0m",
      "\u001B[0;31mProgrammingError\u001B[0m                          Traceback (most recent call last)",
      "Cell \u001B[0;32mIn[93], line 1\u001B[0m\n\u001B[0;32m----> 1\u001B[0m takedata()\n",
      "Cell \u001B[0;32mIn[92], line 3\u001B[0m, in \u001B[0;36mtakedata\u001B[0;34m()\u001B[0m\n\u001B[1;32m      1\u001B[0m \u001B[38;5;28;01mdef\u001B[39;00m \u001B[38;5;21mtakedata\u001B[39m():\n\u001B[1;32m      2\u001B[0m     cur\u001B[38;5;241m.\u001B[39mexecute(\u001B[38;5;124m'''\u001B[39m\u001B[38;5;124mSELECT * FROM kitapp\u001B[39m\u001B[38;5;124m'''\u001B[39m)\n\u001B[0;32m----> 3\u001B[0m     data_liste\u001B[38;5;241m=\u001B[39mcursor\u001B[38;5;241m.\u001B[39mfetchall()\n\u001B[1;32m      4\u001B[0m     \u001B[38;5;28mprint\u001B[39m(data_liste)\n",
      "\u001B[0;31mProgrammingError\u001B[0m: Cannot operate on a closed database."
     ]
    }
   ],
   "execution_count": 93
  },
  {
   "metadata": {
    "ExecuteTime": {
     "end_time": "2024-08-29T19:45:23.479088Z",
     "start_time": "2024-08-29T19:45:23.476674Z"
    }
   },
   "cell_type": "code",
   "source": "connection.close()",
   "id": "44ad245c26c65a1c",
   "outputs": [],
   "execution_count": 94
  },
  {
   "metadata": {},
   "cell_type": "markdown",
   "source": "# Updating the Table",
   "id": "fc727109408de123"
  },
  {
   "metadata": {
    "ExecuteTime": {
     "end_time": "2024-08-30T20:55:27.414385Z",
     "start_time": "2024-08-30T20:55:27.404008Z"
    }
   },
   "cell_type": "code",
   "source": [
    "def updatedata(new_name,old_name):\n",
    "    cursor.execute('UPDATE name SET name=?,Surname=? WHERE name=?',(new_name,old_name,old_name))\n",
    "    connection.commit()"
   ],
   "id": "d1fdcd504e3bf5d9",
   "outputs": [],
   "execution_count": 95
  },
  {
   "metadata": {},
   "cell_type": "code",
   "outputs": [],
   "execution_count": null,
   "source": "",
   "id": "ef0696f99cdba984"
  }
 ],
 "metadata": {
  "kernelspec": {
   "display_name": "Python 3",
   "language": "python",
   "name": "python3"
  },
  "language_info": {
   "codemirror_mode": {
    "name": "ipython",
    "version": 2
   },
   "file_extension": ".py",
   "mimetype": "text/x-python",
   "name": "python",
   "nbconvert_exporter": "python",
   "pygments_lexer": "ipython2",
   "version": "2.7.6"
  }
 },
 "nbformat": 4,
 "nbformat_minor": 5
}
